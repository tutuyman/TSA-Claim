{
 "cells": [
  {
   "cell_type": "markdown",
   "metadata": {},
   "source": [
    "# Capstone 2"
   ]
  },
  {
   "cell_type": "markdown",
   "metadata": {},
   "source": [
    "Andri Rifky \n",
    "JCDS1804"
   ]
  },
  {
   "cell_type": "markdown",
   "metadata": {},
   "source": [
    "# 1. Pendahuluan"
   ]
  },
  {
   "cell_type": "markdown",
   "metadata": {},
   "source": [
    "## 1.1 Latar belakang \n",
    "Kumpulan laporan atau aduan dari penumpang yang diterima oleh TSA (Transport security administration). TSA adalah lembaga keamanan transportasi amerika serikat yang didirikan pada 19 november 2001, alasan dibuat lembaga ini adalah agar tidak terulang kejadian '9/11'.\n",
    "dalam dataset set ini rentang laporan dari tahun 2002 hingga 2014."
   ]
  },
  {
   "cell_type": "markdown",
   "metadata": {},
   "source": [
    "## 1.2 Pernyataan masalah\n",
    " 1. Pengaduan apa yang sering muncul\n",
    " 1. Adakah faktor yang mempengaruhi keputusan TSA"
   ]
  },
  {
   "cell_type": "markdown",
   "metadata": {},
   "source": [
    "# 2. Data preparation"
   ]
  },
  {
   "cell_type": "markdown",
   "metadata": {},
   "source": [
    "## 2.1 Data Understanding"
   ]
  },
  {
   "cell_type": "code",
   "execution_count": 1,
   "metadata": {},
   "outputs": [],
   "source": [
    "import matplotlib.pyplot as mpl\n",
    "import seaborn as snis\n",
    "import pandas as pd\n",
    "import numpy as np\n",
    "import matplotlib.pyplot as mpl\n",
    "import re\n",
    "import plotly.express as px\n",
    "import plotly.graph_objects as go"
   ]
  },
  {
   "cell_type": "code",
   "execution_count": 49,
   "metadata": {},
   "outputs": [
    {
     "name": "stderr",
     "output_type": "stream",
     "text": [
      "C:\\Users\\andri\\AppData\\Local\\Temp\\ipykernel_7388\\3850143854.py:2: DtypeWarning: Columns (0,11,12) have mixed types. Specify dtype option on import or set low_memory=False.\n",
      "  df=pd.read_csv('tsa_claims.csv')\n"
     ]
    },
    {
     "data": {
      "text/html": [
       "<div>\n",
       "<style scoped>\n",
       "    .dataframe tbody tr th:only-of-type {\n",
       "        vertical-align: middle;\n",
       "    }\n",
       "\n",
       "    .dataframe tbody tr th {\n",
       "        vertical-align: top;\n",
       "    }\n",
       "\n",
       "    .dataframe thead th {\n",
       "        text-align: right;\n",
       "    }\n",
       "</style>\n",
       "<table border=\"1\" class=\"dataframe\">\n",
       "  <thead>\n",
       "    <tr style=\"text-align: right;\">\n",
       "      <th></th>\n",
       "      <th>Claim Number</th>\n",
       "      <th>Date Received</th>\n",
       "      <th>Incident Date</th>\n",
       "      <th>Airport Code</th>\n",
       "      <th>Airport Name</th>\n",
       "      <th>Airline Name</th>\n",
       "      <th>Claim Type</th>\n",
       "      <th>Claim Site</th>\n",
       "      <th>Item</th>\n",
       "      <th>Claim Amount</th>\n",
       "      <th>Status</th>\n",
       "      <th>Close Amount</th>\n",
       "      <th>Disposition</th>\n",
       "    </tr>\n",
       "  </thead>\n",
       "  <tbody>\n",
       "    <tr>\n",
       "      <th>0</th>\n",
       "      <td>0909802M</td>\n",
       "      <td>4-Jan-02</td>\n",
       "      <td>12/12/2002 0:00</td>\n",
       "      <td>EWR</td>\n",
       "      <td>Newark International Airport</td>\n",
       "      <td>Continental Airlines</td>\n",
       "      <td>Property Damage</td>\n",
       "      <td>Checkpoint</td>\n",
       "      <td>Other</td>\n",
       "      <td>$350.00</td>\n",
       "      <td>Approved</td>\n",
       "      <td>$350.00</td>\n",
       "      <td>Approve in Full</td>\n",
       "    </tr>\n",
       "    <tr>\n",
       "      <th>1</th>\n",
       "      <td>0202417M</td>\n",
       "      <td>2-Feb-02</td>\n",
       "      <td>1/16/2004 0:00</td>\n",
       "      <td>SEA</td>\n",
       "      <td>Seattle-Tacoma International</td>\n",
       "      <td>NaN</td>\n",
       "      <td>Property Damage</td>\n",
       "      <td>Checked Baggage</td>\n",
       "      <td>Luggage (all types including footlockers)</td>\n",
       "      <td>$100.00</td>\n",
       "      <td>Settled</td>\n",
       "      <td>$50.00</td>\n",
       "      <td>Settle</td>\n",
       "    </tr>\n",
       "    <tr>\n",
       "      <th>2</th>\n",
       "      <td>0202445M</td>\n",
       "      <td>4-Feb-02</td>\n",
       "      <td>11/26/2003 0:00</td>\n",
       "      <td>STL</td>\n",
       "      <td>Lambert St. Louis International</td>\n",
       "      <td>American Airlines</td>\n",
       "      <td>Property Damage</td>\n",
       "      <td>Checked Baggage</td>\n",
       "      <td>Cell Phones</td>\n",
       "      <td>$278.88</td>\n",
       "      <td>Settled</td>\n",
       "      <td>$227.92</td>\n",
       "      <td>Settle</td>\n",
       "    </tr>\n",
       "    <tr>\n",
       "      <th>3</th>\n",
       "      <td>0909816M</td>\n",
       "      <td>7-Feb-02</td>\n",
       "      <td>1/6/2003 0:00</td>\n",
       "      <td>MIA</td>\n",
       "      <td>Miami International Airport</td>\n",
       "      <td>American Airlines</td>\n",
       "      <td>Property Damage</td>\n",
       "      <td>Checkpoint</td>\n",
       "      <td>Luggage (all types including footlockers)</td>\n",
       "      <td>$50.00</td>\n",
       "      <td>Approved</td>\n",
       "      <td>$50.00</td>\n",
       "      <td>Approve in Full</td>\n",
       "    </tr>\n",
       "    <tr>\n",
       "      <th>4</th>\n",
       "      <td>2005032379513</td>\n",
       "      <td>18-Feb-02</td>\n",
       "      <td>2/5/2005 0:00</td>\n",
       "      <td>MCO</td>\n",
       "      <td>Orlando International Airport</td>\n",
       "      <td>Delta (Song)</td>\n",
       "      <td>Property Damage</td>\n",
       "      <td>Checkpoint</td>\n",
       "      <td>Baby - Strollers; car seats; playpen; etc.</td>\n",
       "      <td>$84.79</td>\n",
       "      <td>Approved</td>\n",
       "      <td>$84.79</td>\n",
       "      <td>Approve in Full</td>\n",
       "    </tr>\n",
       "  </tbody>\n",
       "</table>\n",
       "</div>"
      ],
      "text/plain": [
       "    Claim Number Date Received    Incident Date Airport Code  \\\n",
       "0       0909802M      4-Jan-02  12/12/2002 0:00          EWR   \n",
       "1       0202417M      2-Feb-02   1/16/2004 0:00          SEA   \n",
       "2       0202445M      4-Feb-02  11/26/2003 0:00          STL   \n",
       "3       0909816M      7-Feb-02    1/6/2003 0:00          MIA   \n",
       "4  2005032379513     18-Feb-02    2/5/2005 0:00          MCO   \n",
       "\n",
       "                      Airport Name          Airline Name       Claim Type  \\\n",
       "0     Newark International Airport  Continental Airlines  Property Damage   \n",
       "1     Seattle-Tacoma International                   NaN  Property Damage   \n",
       "2  Lambert St. Louis International     American Airlines  Property Damage   \n",
       "3      Miami International Airport     American Airlines  Property Damage   \n",
       "4    Orlando International Airport          Delta (Song)  Property Damage   \n",
       "\n",
       "        Claim Site                                        Item Claim Amount  \\\n",
       "0       Checkpoint                                       Other     $350.00    \n",
       "1  Checked Baggage   Luggage (all types including footlockers)     $100.00    \n",
       "2  Checked Baggage                                 Cell Phones     $278.88    \n",
       "3       Checkpoint   Luggage (all types including footlockers)      $50.00    \n",
       "4       Checkpoint  Baby - Strollers; car seats; playpen; etc.      $84.79    \n",
       "\n",
       "     Status Close Amount      Disposition  \n",
       "0  Approved     $350.00   Approve in Full  \n",
       "1   Settled      $50.00            Settle  \n",
       "2   Settled     $227.92            Settle  \n",
       "3  Approved      $50.00   Approve in Full  \n",
       "4  Approved      $84.79   Approve in Full  "
      ]
     },
     "execution_count": 49,
     "metadata": {},
     "output_type": "execute_result"
    }
   ],
   "source": [
    "# Import data\n",
    "df=pd.read_csv('tsa_claims.csv')\n",
    "df.head()"
   ]
  },
  {
   "cell_type": "code",
   "execution_count": 50,
   "metadata": {},
   "outputs": [
    {
     "data": {
      "text/plain": [
       "Claim Number         0\n",
       "Date Received      263\n",
       "Incident Date     2183\n",
       "Airport Code      8524\n",
       "Airport Name      8524\n",
       "Airline Name     34374\n",
       "Claim Type        7913\n",
       "Claim Site         740\n",
       "Item              3966\n",
       "Claim Amount      4043\n",
       "Status               5\n",
       "Close Amount     68952\n",
       "Disposition      72908\n",
       "dtype: int64"
      ]
     },
     "execution_count": 50,
     "metadata": {},
     "output_type": "execute_result"
    }
   ],
   "source": [
    "df.isna().sum()"
   ]
  },
  {
   "cell_type": "markdown",
   "metadata": {},
   "source": [
    "Ada 13 kolom yang berisi\n",
    "1. Claim Number: Nomor aduan\n",
    "1. Date Received: Tanggal laporan diterima\n",
    "1. Incident Date: Tanggal kejadian\n",
    "1. Airport Code: Kode bandara\n",
    "1. Airport Name: Nama bandara\n",
    "1. Airline Name: Nama maskapai penerbangan\n",
    "1. Claim Type  : Tipe pengaduan\n",
    "1. Claim Site  : Lokasi kejadian\n",
    "1. Item        : Barang yang dilaporkan\n",
    "1. Claim Amount: Jumlah kehilangan\n",
    "1. Status      : Keputusan Akhir dari TSA\n",
    "1. Close Amount: Nilai yang diganti\n",
    "1. Dispositon  : Keputusan lebih detail "
   ]
  },
  {
   "cell_type": "code",
   "execution_count": 3,
   "metadata": {},
   "outputs": [
    {
     "name": "stdout",
     "output_type": "stream",
     "text": [
      "Rows: 204267\n"
     ]
    }
   ],
   "source": [
    "\n",
    "\n",
    "# Format Kolom agar sedikit rapih\n",
    "df.columns = [s.strip().replace(' ','_') for s in df.columns]\n",
    "\n",
    "# Mengubah nama kolom Date\n",
    "df['Date_Received_String'] = df.Date_Received\n",
    "df['Incident_Date_String'] = df.Incident_Date\n",
    "df.drop(['Date_Received','Incident_Date'], axis=1, inplace=True)\n",
    "\n",
    "print('Rows:', len(df))"
   ]
  },
  {
   "cell_type": "code",
   "execution_count": 4,
   "metadata": {},
   "outputs": [
    {
     "name": "stdout",
     "output_type": "stream",
     "text": [
      "Nan       Row     Row Kumulatif\n",
      " 0:      94848     204267\n",
      " 1:      32404     109419\n",
      " 2:      66106      77015\n",
      " 3:       4582      10909\n",
      " 4:       1970       6327\n",
      " 5:       2253       4357\n",
      " 6:        977       2104\n",
      " 7:        321       1127\n",
      " 8:        634        806\n",
      " 9:         42        172\n",
      "10:        106        130\n",
      "11:         19         24\n",
      "12:          5          5\n"
     ]
    }
   ],
   "source": [
    "# Cek Nan per baris\n",
    "cekna=df.isna().sum(axis=1).value_counts().sort_index()\n",
    "print ('Nan       Row     Row Kumulatif')\n",
    "for i in range(len(cekna)):\n",
    "    print ('{:2d}: {:10d} {:10d}'.format(cekna.index[i], cekna[i], cekna[i:].sum()))"
   ]
  },
  {
   "cell_type": "markdown",
   "metadata": {},
   "source": [
    "ada sekitar 2000 baris data yang memiliki jumlah Nan lebih dari 6, dapat diasumsikan data tersebut memiliki minim informasi"
   ]
  },
  {
   "cell_type": "code",
   "execution_count": 5,
   "metadata": {},
   "outputs": [
    {
     "data": {
      "text/plain": [
       "Disposition             72908\n",
       "Close_Amount            68952\n",
       "Airline_Name            34374\n",
       "Airport_Code             8524\n",
       "Airport_Name             8524\n",
       "Claim_Type               7913\n",
       "Claim_Amount             4043\n",
       "Item                     3966\n",
       "Incident_Date_String     2183\n",
       "Claim_Site                740\n",
       "Date_Received_String      263\n",
       "Status                      5\n",
       "Claim_Number                0\n",
       "dtype: int64"
      ]
     },
     "execution_count": 5,
     "metadata": {},
     "output_type": "execute_result"
    }
   ],
   "source": [
    "# Cek Nan per kolom\n",
    "df.isna().sum().sort_values(ascending=False)"
   ]
  },
  {
   "cell_type": "markdown",
   "metadata": {},
   "source": [
    "* Disposition dan close amount memiliki jumlah Nan paling banyak sekitar 34% dari dataset, kolom ini akan di drop karena bisa diwakilkan dengan kolom lain\n",
    "* Kolom Nan pada Airline name, Claim Type, dan ,Claim Ammount, bersifat kategorik, maka akan diisi 'other' , 'missing', atau '-'"
   ]
  },
  {
   "cell_type": "code",
   "execution_count": 6,
   "metadata": {},
   "outputs": [
    {
     "name": "stdout",
     "output_type": "stream",
     "text": [
      "203461\n"
     ]
    }
   ],
   "source": [
    "# Menghapus baris yang memiliki Nan diatas 6\n",
    "df.dropna(thresh=6, inplace=True)\n",
    "\n",
    "# Mengisi Nan pada kolom kategorik\n",
    "isikolom=['Airline_Name','Airport_Name','Airport_Code','Claim_Type','Claim_Site','Item']\n",
    "df[isikolom] = df[isikolom].fillna('-')\n",
    "\n",
    "# Mengisi Nan pada kolom Claim Amount menjadi 0\n",
    "df['Claim_Amount'] = df.Claim_Amount.fillna('$0.00')\n",
    "\n",
    "print(len(df))\n"
   ]
  },
  {
   "cell_type": "markdown",
   "metadata": {},
   "source": [
    "nilai Nan pada kolom date dan status akan di drop berikutnya"
   ]
  },
  {
   "cell_type": "markdown",
   "metadata": {},
   "source": [
    "### Status"
   ]
  },
  {
   "cell_type": "code",
   "execution_count": 7,
   "metadata": {},
   "outputs": [
    {
     "data": {
      "text/plain": [
       "Denied                                               68336\n",
       "Approved                                             34997\n",
       "Deny                                                 28237\n",
       "Settled                                              27955\n",
       "-                                                    12752\n",
       "Approve in Full                                      12364\n",
       "Canceled                                              6651\n",
       "Settle                                                5766\n",
       "Insufficient                                          4972\n",
       "Closed as a contractor claim                          1312\n",
       "In litigation                                          108\n",
       "In review                                                9\n",
       "Claim has been assigned for further investigation        1\n",
       "Pending response from claimant                           1\n",
       "Name: Status, dtype: int64"
      ]
     },
     "execution_count": 7,
     "metadata": {},
     "output_type": "execute_result"
    }
   ],
   "source": [
    "# Cek kolom Status\n",
    "df.Status.str.split(';').map(lambda x: 'Null' if type(x)==float else x[0]).value_counts()"
   ]
  },
  {
   "cell_type": "markdown",
   "metadata": {},
   "source": [
    "Kolom status memiliki value yang tidak konsisten (seperti Denied dan Deny) dan bisa digabung (seperti 'Aprrove in full' dapat digabung dengan 'Approved'), kita akan menggabung value kategori tersebut"
   ]
  },
  {
   "cell_type": "code",
   "execution_count": 8,
   "metadata": {},
   "outputs": [
    {
     "name": "stdout",
     "output_type": "stream",
     "text": [
      "Denied      96573\n",
      "Approved    47361\n",
      "Settled     33721\n",
      "Name: Status, dtype: int64\n",
      "177655\n"
     ]
    }
   ],
   "source": [
    "# Menggabung kategori\n",
    "valid = ['Denied','Approved','Deny','Settled','Approve in Full', 'Settle']\n",
    "\n",
    "df = df[df.Status.isin(valid)]\n",
    "df.Status.replace('Approve in Full','Approved',inplace=True)\n",
    "df.Status.replace('Deny','Denied',inplace=True)\n",
    "df.Status.replace('Settle','Settled',inplace=True)\n",
    "\n",
    "print(df.Status.value_counts())\n",
    "print(len(df))"
   ]
  },
  {
   "cell_type": "markdown",
   "metadata": {},
   "source": [
    "Sisa value yang tidak termasuk kategori diatas otomatis terdrop karena jumlahnya sedikit dan nilai kosong (-)"
   ]
  },
  {
   "cell_type": "markdown",
   "metadata": {},
   "source": [
    "### Date Received"
   ]
  },
  {
   "cell_type": "code",
   "execution_count": 9,
   "metadata": {},
   "outputs": [
    {
     "name": "stdout",
     "output_type": "stream",
     "text": [
      "2002      782\n",
      "2003    19367\n",
      "2004    26621\n",
      "2005    22494\n",
      "2006    17662\n",
      "2007    17383\n",
      "2008    15253\n",
      "2009    11598\n",
      "2010     9729\n",
      "2011     9795\n",
      "2012     8891\n",
      "2013     6233\n",
      "2014     5118\n",
      "Name: Date_Received, dtype: int64\n"
     ]
    }
   ],
   "source": [
    "# Drop Nan pada kolom date receive\n",
    "df.dropna(subset=['Date_Received_String'], inplace=True)\n",
    "\n",
    "# Format datetime\n",
    "df['Date_Received'] = pd.to_datetime(df.Date_Received_String,format='%d-%b-%y')\n",
    "\n",
    "# Cek range\n",
    "df = df[df.Date_Received.dt.year.isin(range(2002,2014+1))]\n",
    "\n",
    "print(df.Date_Received.dt.year.value_counts().sort_index())"
   ]
  },
  {
   "cell_type": "markdown",
   "metadata": {},
   "source": [
    "### Incident Date\n",
    "Pada kolom incident date, penulisan tanggal tidak konsisten, ada yang menggunakan formal dd/mm/yyyy 00:00, ada juga yang menggunakan formal dd-mmm-yy. maka akan dirapihkan menjadi 1 format"
   ]
  },
  {
   "cell_type": "code",
   "execution_count": 10,
   "metadata": {},
   "outputs": [],
   "source": [
    "dict = {'jan':1,'feb':2,'mar':3,'apr':4,'may':5,'jun':6,'jul':7,'aug':8,'sep':9,'oct':10,'nov':11,'dec':12}\n",
    "\n",
    "def format_date(regex, date_string):\n",
    "    m = regex.match(date_string)\n",
    "    if(m):\n",
    "        day, month, year = m.group(1,2,3)\n",
    "        return '{}/{}/{}'.format(dict[month],day,'20'+year)\n",
    "    else:\n",
    "        return date_string"
   ]
  },
  {
   "cell_type": "code",
   "execution_count": 11,
   "metadata": {},
   "outputs": [
    {
     "name": "stdout",
     "output_type": "stream",
     "text": [
      "2002     1631\n",
      "2003    21859\n",
      "2004    26166\n",
      "2005    21209\n",
      "2006    17436\n",
      "2007    17076\n",
      "2008    14776\n",
      "2009    10080\n",
      "2010    10879\n",
      "2011     9848\n",
      "2012     8755\n",
      "2013     5999\n",
      "2014     4293\n",
      "Name: Incident_Date, dtype: int64\n",
      "170007\n"
     ]
    }
   ],
   "source": [
    "# Drop Nan pada incident date\n",
    "df.dropna(subset=['Incident_Date_String'], inplace=True)\n",
    "\n",
    "# Koreksi error pada satu value \n",
    "df.Incident_Date_String.replace('6/30/10','06/30/2010 16:30',inplace=True)\n",
    "\n",
    "# Format agar konsisten\n",
    "df['Incident_Date_String'] = df.Incident_Date_String.str.replace('-','/')\n",
    "df['Incident_Date_String'] = df.Incident_Date_String.str.lower()\n",
    "\n",
    "# Split waktu\n",
    "df['Incident_Time'] = df.Incident_Date_String.str.split(' ').map(lambda x: x[-1])\n",
    "df['Incident_Date'] = df.Incident_Date_String.str.split(' ').map(lambda x: x[0])\n",
    "\n",
    "regex = re.compile(r'/[a-z]{3}/[0-9]{4}')\n",
    "df = df[df.Incident_Date.map(lambda x: not bool(regex.search(x)))].sort_values(['Date_Received'])\n",
    "\n",
    "# Format Entry pada tahun 2014\n",
    "regex = re.compile(r'(\\d*)/([a-z]{3})/(1[1-4])$')\n",
    "df['Incident_Date'] = df.Incident_Date.map(lambda x: format_date(regex,x) )\n",
    "\n",
    "\n",
    "# Format tanggal, cek range tahun, buat bulan dan tahun\n",
    "df['Incident_Date'] = pd.to_datetime(df.Incident_Date,format='%m/%d/%Y')\n",
    "df = df[df.Incident_Date.dt.year.isin(range(2002,2014+1))]\n",
    "\n",
    "print(df.Incident_Date.dt.year.value_counts().sort_index())\n",
    "print(len(df))"
   ]
  },
  {
   "cell_type": "markdown",
   "metadata": {},
   "source": [
    "### Airport Code / Name\n",
    "Penulisan aiport Name beberapa tidak konsisten seperti memiliki spasi berlebih"
   ]
  },
  {
   "cell_type": "code",
   "execution_count": 12,
   "metadata": {},
   "outputs": [
    {
     "name": "stdout",
     "output_type": "stream",
     "text": [
      "Airport_Code\n",
      "BOS    [Boston (Logan) International Airport, Boston ...\n",
      "BUR                                [Bob Hope, Bob Hope ]\n",
      "DEN    [Denver International Airport, Denver Internat...\n",
      "DFW    [Dallas-Fort Worth International Airport, Dall...\n",
      "DUJ    [Dubois Jefferson County, Dubois Jefferson Cou...\n",
      "Name: Airport_Name, dtype: object\n",
      "\n",
      "---\n",
      "\n",
      "Series([], Name: Airport_Name, dtype: object)\n"
     ]
    }
   ],
   "source": [
    "# Cek banyak nama Airport kemudian digabung menjadi 1 Airport code\n",
    "temp = df.groupby('Airport_Code').Airport_Name.nunique().sort_values(ascending=False)\n",
    "print(df[df.Airport_Code.isin(temp[temp>1].index)].groupby('Airport_Code').Airport_Name.unique().head())\n",
    "print('\\n---\\n')\n",
    "\n",
    "# Duplikat untuk spasi berlebih\n",
    "df['Airport_Code'] = df.Airport_Code.str.strip()\n",
    "df['Airport_Name'] = df.Airport_Name.str.strip()\n",
    "\n",
    "# Cek banyak nama Airport kemudian digabung menjadi 1 Airport code\n",
    "temp = df.groupby('Airport_Code').Airport_Name.nunique().sort_values(ascending=False)\n",
    "print(df[df.Airport_Code.isin(temp[temp>1].index)].groupby('Airport_Code').Airport_Name.unique().head())"
   ]
  },
  {
   "cell_type": "markdown",
   "metadata": {},
   "source": [
    "Selanjutnya Mengurangi bandara yang memiliki claim kurang dari 200(0.1%)"
   ]
  },
  {
   "cell_type": "code",
   "execution_count": 13,
   "metadata": {},
   "outputs": [
    {
     "name": "stdout",
     "output_type": "stream",
     "text": [
      "Total: 450 airports, 170007 complaints\n",
      "Under 1000: 407 airports, 42960 complaints\n",
      "Under 900: 402 airports, 38199 complaints\n",
      "Under 800: 397 airports, 34015 complaints\n",
      "Under 700: 392 airports, 30339 complaints\n",
      "Under 600: 384 airports, 25052 complaints\n",
      "Under 500: 378 airports, 21592 complaints\n",
      "Under 400: 372 airports, 18959 complaints\n",
      "Under 300: 365 airports, 16513 complaints\n",
      "Under 200: 348 airports, 12258 complaints\n",
      "Under 100: 307 airports, 6642 complaints\n"
     ]
    }
   ],
   "source": [
    "# melihat distribusi of claims by airport\n",
    "temp = df.Airport_Code.value_counts()\n",
    "print('Total: {} airports, {} complaints'.format(temp.count(),temp.sum()))\n",
    "for num in range(1000,1,-100):\n",
    "    print('Under {}: {} airports, {} complaints'.format(num, temp[temp<num].count(),temp[temp<num].sum()))\n",
    "\n",
    "level = 200"
   ]
  },
  {
   "cell_type": "code",
   "execution_count": 14,
   "metadata": {},
   "outputs": [],
   "source": [
    "# Set airport dan code to 'Other' dibawah level\n",
    "def set_other(row, keep_items):\n",
    "    if row.Airport_Code in keep_items:\n",
    "        row['Airport_Code_Group'] = row.Airport_Code\n",
    "        row['Airport_Name_Group'] = row.Airport_Name\n",
    "    else:\n",
    "        row['Airport_Code_Group'] = 'Other'\n",
    "        row['Airport_Name_Group'] = 'Other'\n",
    "    return row\n",
    "\n",
    "keep_set = set(temp[temp>=level].index)\n",
    "df = df.apply(lambda x: set_other(x,keep_set),axis=1)"
   ]
  },
  {
   "cell_type": "markdown",
   "metadata": {},
   "source": [
    "### Airline Name\n",
    "Merapihkan nama airline"
   ]
  },
  {
   "cell_type": "code",
   "execution_count": 15,
   "metadata": {},
   "outputs": [
    {
     "name": "stdout",
     "output_type": "stream",
     "text": [
      "170007\n"
     ]
    }
   ],
   "source": [
    "df['Airline_Name'] = df.Airline_Name.str.strip().str.replace(' ','')\n",
    "df.Airline_Name.replace('AmericanEagle','AmericanAirlines',inplace=True)\n",
    "df.Airline_Name.replace('AmericanWest','AmericaWest',inplace=True)\n",
    "df.Airline_Name.replace('AirTranAirlines(donotuse)','AirTranAirlines',inplace=True)\n",
    "df.Airline_Name.replace('AeroflotRussianInternational','AeroFlot',inplace=True)\n",
    "df.Airline_Name.replace('ContinentalExpressInc','ContinentalAirlines',inplace=True)\n",
    "df.Airline_Name.replace('Delta(Song)','DeltaAirLines',inplace=True)\n",
    "df.Airline_Name.replace('FrontierAviationInc','FrontierAirlines',inplace=True)\n",
    "df.Airline_Name.replace('NorthwestInternationalAirwaysLtd','NorthwestAirlines',inplace=True)\n",
    "df.Airline_Name.replace('SkywestAirlinesAustralia','SkywestAirlinesIncUSA',inplace=True)\n",
    "\n",
    "df.Airline_Name.value_counts().head(10)\n",
    "print(len(df))"
   ]
  },
  {
   "cell_type": "markdown",
   "metadata": {},
   "source": [
    "### Item\n",
    "mengecek dan merapihkan item"
   ]
  },
  {
   "cell_type": "code",
   "execution_count": 16,
   "metadata": {},
   "outputs": [
    {
     "data": {
      "text/plain": [
       "Other                               32293\n",
       "Clothing                            20003\n",
       "Luggage                             17522\n",
       "Jewelry                             12923\n",
       "Cameras                             12781\n",
       "Computer                            11972\n",
       "Locks                                9724\n",
       "Cosmetics                            5941\n",
       "Baggage/Cases/Purses                 5864\n",
       "                                     5035\n",
       "Eyeglasses                           3817\n",
       "Currency                             3168\n",
       "Travel Accessories                   2884\n",
       "Cell Phones                          2376\n",
       "Personal Electronics                 2127\n",
       "Sporting Equipment                   1700\n",
       "Personal Accessories                 1500\n",
       "DVD/CD Players                       1235\n",
       "MP3 Players                           967\n",
       "Medicines                             941\n",
       "Watches                               864\n",
       "Alcoholic beverages                   772\n",
       "Food                                  711\n",
       "Bags                                  711\n",
       "Musical Instruments                   661\n",
       "Baby                                  624\n",
       "GPS                                   619\n",
       "Toys                                  605\n",
       "Medical/Science                       603\n",
       "Stereo Items                          591\n",
       "Handbags                              560\n",
       "Books                                 547\n",
       "Tools                                 534\n",
       "Home Decor                            467\n",
       "PDA                                   402\n",
       "Household Items                       398\n",
       "Dishes                                373\n",
       "Hunting                               365\n",
       "Barber Supplies                       347\n",
       "Automobile Parts                      341\n",
       "Fish/Game                             306\n",
       "Medical Equipment                     298\n",
       "Audio/Video                           288\n",
       "Audio                                 216\n",
       "Kitchen Utensils                      215\n",
       "Photographic Film                     188\n",
       "Batteries                             159\n",
       "Dental Equipment and Instruments      133\n",
       "Boxes                                 127\n",
       "Paintings and Pictures                125\n",
       "Video Recordings                      122\n",
       "Ceramics                              116\n",
       "Clocks                                113\n",
       "Professional Equipment                101\n",
       "Name: Item, dtype: int64"
      ]
     },
     "execution_count": 16,
     "metadata": {},
     "output_type": "execute_result"
    }
   ],
   "source": [
    "df_item = df.Item.str.split('-').map(lambda x: '' if type(x) == float else x[0])\n",
    "df_item = df_item.str.split(r' \\(').map(lambda x: x[0])\n",
    "df_item = df_item.str.split(r' &').map(lambda x: x[0])\n",
    "df_item = df_item.str.split(r'; ').map(lambda x: x[0])\n",
    "df_item = df_item.str.strip()\n",
    "\n",
    "categories = df_item.value_counts()\n",
    "\n",
    "\n",
    "categories[categories > 100]"
   ]
  },
  {
   "cell_type": "markdown",
   "metadata": {},
   "source": [
    "### Claim Amount"
   ]
  },
  {
   "cell_type": "code",
   "execution_count": 17,
   "metadata": {},
   "outputs": [
    {
     "name": "stderr",
     "output_type": "stream",
     "text": [
      "C:\\Users\\andri\\AppData\\Local\\Temp\\ipykernel_7388\\278666181.py:2: FutureWarning: The default value of regex will change from True to False in a future version. In addition, single character regular expressions will *not* be treated as literal strings when regex=True.\n",
      "  df['Claim_Amount'] = df.Claim_Amount.str.replace(';','').str.replace('$','').str.replace('-','0')\n"
     ]
    },
    {
     "name": "stdout",
     "output_type": "stream",
     "text": [
      "count    1.700070e+05\n",
      "mean     1.766969e+07\n",
      "std      7.275922e+09\n",
      "min      0.000000e+00\n",
      "25%      2.785500e+01\n",
      "50%      1.169600e+02\n",
      "75%      3.500000e+02\n",
      "max      3.000000e+12\n",
      "Name: Claim_Value, dtype: float64\n",
      "Denied      92530\n",
      "Approved    45096\n",
      "Settled     32381\n",
      "Name: Status, dtype: int64\n",
      "170007\n"
     ]
    },
    {
     "name": "stderr",
     "output_type": "stream",
     "text": [
      "C:\\Users\\andri\\AppData\\Local\\Temp\\ipykernel_7388\\278666181.py:11: UserWarning: \n",
      "\n",
      "`distplot` is a deprecated function and will be removed in seaborn v0.14.0.\n",
      "\n",
      "Please adapt your code to use either `displot` (a figure-level function with\n",
      "similar flexibility) or `histplot` (an axes-level function for histograms).\n",
      "\n",
      "For a guide to updating your code to use the new functions, please see\n",
      "https://gist.github.com/mwaskom/de44147ed2974457ad6372750bbe5751\n",
      "\n",
      "  snis.distplot(df.Claim_Value[(df.Claim_Value>0)&(df.Claim_Value<500)])\n"
     ]
    },
    {
     "data": {
      "text/plain": [
       "Denied      54939\n",
       "Approved    44095\n",
       "Settled     28960\n",
       "Name: Status, dtype: int64"
      ]
     },
     "execution_count": 17,
     "metadata": {},
     "output_type": "execute_result"
    },
    {
     "data": {
      "image/png": "[encoded data removed]",
      "text/plain": [
       "<Figure size 640x480 with 1 Axes>"
      ]
     },
     "metadata": {},
     "output_type": "display_data"
    }
   ],
   "source": [
    "df['Claim_Amount'] = df.Claim_Amount.str.strip()\n",
    "df['Claim_Amount'] = df.Claim_Amount.str.replace(';','').str.replace('$','').str.replace('-','0')\n",
    "df['Claim_Value'] = df.Claim_Amount.astype(float)\n",
    "\n",
    "df_copy = df.copy()\n",
    "\n",
    "print(df.Claim_Value.describe())\n",
    "print(df.Status.value_counts())\n",
    "print(len(df))\n",
    "\n",
    "snis.distplot(df.Claim_Value[(df.Claim_Value>0)&(df.Claim_Value<500)])\n",
    "\n",
    "df.Status[(df.Claim_Value>0)&(df.Claim_Value<1000)].value_counts()"
   ]
  },
  {
   "cell_type": "markdown",
   "metadata": {},
   "source": [
    "kolom claim amount bersifat right skewed, ini dikarenakan kita mengisi nilai Nan dengan 0"
   ]
  },
  {
   "cell_type": "code",
   "execution_count": 18,
   "metadata": {},
   "outputs": [
    {
     "data": {
      "text/plain": [
       "<seaborn.axisgrid.FacetGrid at 0x17b4adec430>"
      ]
     },
     "execution_count": 18,
     "metadata": {},
     "output_type": "execute_result"
    },
    {
     "data": {
      "image/png": "[encoded data removed]",
      "text/plain": [
       "<Figure size 916.875x800 with 1 Axes>"
      ]
     },
     "metadata": {},
     "output_type": "display_data"
    }
   ],
   "source": [
    "# Grafik claim amount dengan status menggunakan histogram\n",
    "\n",
    "bins = [round(10**x) for x in (list(np.arange(0,4.1,.4))+[10])]\n",
    "\n",
    "bottom = -1\n",
    "\n",
    "data = []\n",
    "\n",
    "for x,top in enumerate(bins):\n",
    "    counts = df.Status[(df.Claim_Value>bottom)&(df.Claim_Value<=top)].value_counts()\n",
    "    for i in range(len(counts)):\n",
    "        data.append({'bin':(str(x)+':'+str(top)),'label':counts.index[i],'count':counts[i]})\n",
    "    bottom = top\n",
    "\n",
    "counts_df = pd.DataFrame(data)\n",
    "\n",
    "snis.catplot(x='bin',y='count',hue='label',data=counts_df,kind='bar',height=8)"
   ]
  },
  {
   "cell_type": "markdown",
   "metadata": {},
   "source": [
    "nilai 0 sangat tinggi karena hasil dari Nan, maka nilai 0 kita drop"
   ]
  },
  {
   "cell_type": "code",
   "execution_count": 19,
   "metadata": {},
   "outputs": [
    {
     "name": "stdout",
     "output_type": "stream",
     "text": [
      "count    1.450120e+05\n",
      "mean     2.071533e+07\n",
      "std      7.878063e+09\n",
      "min      4.800000e-01\n",
      "25%      5.999750e+01\n",
      "50%      1.599900e+02\n",
      "75%      4.226500e+02\n",
      "max      3.000000e+12\n",
      "Name: Claim_Value, dtype: float64\n",
      "Denied      67706\n",
      "Approved    45021\n",
      "Settled     32285\n",
      "Name: Status, dtype: int64\n",
      "145012\n"
     ]
    }
   ],
   "source": [
    "df = df[df.Claim_Value != 0]\n",
    "\n",
    "print(df.Claim_Value.describe())\n",
    "print(df.Status.value_counts())\n",
    "print(len(df))"
   ]
  },
  {
   "cell_type": "markdown",
   "metadata": {},
   "source": [
    "### Close amount\n"
   ]
  },
  {
   "cell_type": "code",
   "execution_count": 20,
   "metadata": {},
   "outputs": [
    {
     "name": "stderr",
     "output_type": "stream",
     "text": [
      "C:\\Users\\andri\\AppData\\Local\\Temp\\ipykernel_7388\\3930540106.py:3: FutureWarning: The default value of regex will change from True to False in a future version. In addition, single character regular expressions will *not* be treated as literal strings when regex=True.\n",
      "  df['Close_Amount'] = df.Close_Amount.str.replace(';','').str.replace('$','')\n"
     ]
    },
    {
     "data": {
      "text/plain": [
       "count    128542.000000\n",
       "mean        101.534805\n",
       "std         922.714278\n",
       "min           0.000000\n",
       "25%           0.000000\n",
       "50%           0.000000\n",
       "75%          75.000000\n",
       "max      250000.000000\n",
       "Name: Close_Value, dtype: float64"
      ]
     },
     "execution_count": 20,
     "metadata": {},
     "output_type": "execute_result"
    }
   ],
   "source": [
    "# melihat summary data close amount\n",
    "df['Close_Amount'] = df.Close_Amount.str.strip()\n",
    "df['Close_Amount'] = df.Close_Amount.str.replace(';','').str.replace('$','')\n",
    "df['Close_Value'] = df.Close_Amount.astype(float)\n",
    "df.Close_Value.describe()"
   ]
  },
  {
   "cell_type": "code",
   "execution_count": 21,
   "metadata": {},
   "outputs": [
    {
     "data": {
      "image/png": "[encoded data removed]",
      "text/plain": [
       "<Figure size 640x480 with 1 Axes>"
      ]
     },
     "metadata": {},
     "output_type": "display_data"
    },
    {
     "data": {
      "image/png": "[encoded data removed]",
      "text/plain": [
       "<Figure size 1600x400 with 3 Axes>"
      ]
     },
     "metadata": {},
     "output_type": "display_data"
    }
   ],
   "source": [
    "# plotting claim value dan close value dengan scatterplot\n",
    "plot = df[(df.Claim_Value < 200000) & (df.Close_Value <= 500000)]\n",
    "\n",
    "mpl.scatter(plot.Claim_Value,plot.Close_Value,alpha=.2)\n",
    "mpl.title('Combined')\n",
    "mpl.xlabel('Claim value')\n",
    "mpl.ylabel('Close value')\n",
    "mpl.show()\n",
    "\n",
    "fig,ax = mpl.subplots(1,3)\n",
    "fig.set_size_inches(16,4)\n",
    "\n",
    "for i,s in enumerate(plot.Status.unique()):\n",
    "    ax[i].scatter(plot[plot.Status==s].Claim_Value,plot[plot.Status==s].Close_Value,alpha=.2)\n",
    "    ax[i].set_title(s)"
   ]
  },
  {
   "cell_type": "code",
   "execution_count": 22,
   "metadata": {},
   "outputs": [
    {
     "data": {
      "text/html": [
       "<div>\n",
       "<style scoped>\n",
       "    .dataframe tbody tr th:only-of-type {\n",
       "        vertical-align: middle;\n",
       "    }\n",
       "\n",
       "    .dataframe tbody tr th {\n",
       "        vertical-align: top;\n",
       "    }\n",
       "\n",
       "    .dataframe thead th {\n",
       "        text-align: right;\n",
       "    }\n",
       "</style>\n",
       "<table border=\"1\" class=\"dataframe\">\n",
       "  <thead>\n",
       "    <tr style=\"text-align: right;\">\n",
       "      <th></th>\n",
       "      <th>Claim_Number</th>\n",
       "      <th>Airline_Name</th>\n",
       "      <th>Claim_Type</th>\n",
       "      <th>Claim_Site</th>\n",
       "      <th>Item</th>\n",
       "      <th>Status</th>\n",
       "      <th>Date_Received</th>\n",
       "      <th>Incident_Date</th>\n",
       "      <th>Airport_Code_Group</th>\n",
       "      <th>Airport_Name_Group</th>\n",
       "      <th>Claim_Value</th>\n",
       "      <th>Close_Value</th>\n",
       "    </tr>\n",
       "  </thead>\n",
       "  <tbody>\n",
       "    <tr>\n",
       "      <th>0</th>\n",
       "      <td>0909802M</td>\n",
       "      <td>ContinentalAirlines</td>\n",
       "      <td>Property Damage</td>\n",
       "      <td>Checkpoint</td>\n",
       "      <td>Other</td>\n",
       "      <td>Approved</td>\n",
       "      <td>2002-01-04</td>\n",
       "      <td>2002-12-12</td>\n",
       "      <td>EWR</td>\n",
       "      <td>Newark International Airport</td>\n",
       "      <td>350.00</td>\n",
       "      <td>350.00</td>\n",
       "    </tr>\n",
       "    <tr>\n",
       "      <th>1</th>\n",
       "      <td>0202417M</td>\n",
       "      <td>-</td>\n",
       "      <td>Property Damage</td>\n",
       "      <td>Checked Baggage</td>\n",
       "      <td>Luggage (all types including footlockers)</td>\n",
       "      <td>Settled</td>\n",
       "      <td>2002-02-02</td>\n",
       "      <td>2004-01-16</td>\n",
       "      <td>SEA</td>\n",
       "      <td>Seattle-Tacoma International</td>\n",
       "      <td>100.00</td>\n",
       "      <td>50.00</td>\n",
       "    </tr>\n",
       "    <tr>\n",
       "      <th>2</th>\n",
       "      <td>0202445M</td>\n",
       "      <td>AmericanAirlines</td>\n",
       "      <td>Property Damage</td>\n",
       "      <td>Checked Baggage</td>\n",
       "      <td>Cell Phones</td>\n",
       "      <td>Settled</td>\n",
       "      <td>2002-02-04</td>\n",
       "      <td>2003-11-26</td>\n",
       "      <td>STL</td>\n",
       "      <td>Lambert St. Louis International</td>\n",
       "      <td>278.88</td>\n",
       "      <td>227.92</td>\n",
       "    </tr>\n",
       "    <tr>\n",
       "      <th>3</th>\n",
       "      <td>0909816M</td>\n",
       "      <td>AmericanAirlines</td>\n",
       "      <td>Property Damage</td>\n",
       "      <td>Checkpoint</td>\n",
       "      <td>Luggage (all types including footlockers)</td>\n",
       "      <td>Approved</td>\n",
       "      <td>2002-02-07</td>\n",
       "      <td>2003-01-06</td>\n",
       "      <td>MIA</td>\n",
       "      <td>Miami International Airport</td>\n",
       "      <td>50.00</td>\n",
       "      <td>50.00</td>\n",
       "    </tr>\n",
       "    <tr>\n",
       "      <th>4</th>\n",
       "      <td>2005032379513</td>\n",
       "      <td>DeltaAirLines</td>\n",
       "      <td>Property Damage</td>\n",
       "      <td>Checkpoint</td>\n",
       "      <td>Baby - Strollers; car seats; playpen; etc.</td>\n",
       "      <td>Approved</td>\n",
       "      <td>2002-02-18</td>\n",
       "      <td>2005-02-05</td>\n",
       "      <td>MCO</td>\n",
       "      <td>Orlando International Airport</td>\n",
       "      <td>84.79</td>\n",
       "      <td>84.79</td>\n",
       "    </tr>\n",
       "  </tbody>\n",
       "</table>\n",
       "</div>"
      ],
      "text/plain": [
       "    Claim_Number         Airline_Name       Claim_Type       Claim_Site  \\\n",
       "0       0909802M  ContinentalAirlines  Property Damage       Checkpoint   \n",
       "1       0202417M                    -  Property Damage  Checked Baggage   \n",
       "2       0202445M     AmericanAirlines  Property Damage  Checked Baggage   \n",
       "3       0909816M     AmericanAirlines  Property Damage       Checkpoint   \n",
       "4  2005032379513        DeltaAirLines  Property Damage       Checkpoint   \n",
       "\n",
       "                                         Item    Status Date_Received  \\\n",
       "0                                       Other  Approved    2002-01-04   \n",
       "1   Luggage (all types including footlockers)   Settled    2002-02-02   \n",
       "2                                 Cell Phones   Settled    2002-02-04   \n",
       "3   Luggage (all types including footlockers)  Approved    2002-02-07   \n",
       "4  Baby - Strollers; car seats; playpen; etc.  Approved    2002-02-18   \n",
       "\n",
       "  Incident_Date Airport_Code_Group               Airport_Name_Group  \\\n",
       "0    2002-12-12                EWR     Newark International Airport   \n",
       "1    2004-01-16                SEA     Seattle-Tacoma International   \n",
       "2    2003-11-26                STL  Lambert St. Louis International   \n",
       "3    2003-01-06                MIA      Miami International Airport   \n",
       "4    2005-02-05                MCO    Orlando International Airport   \n",
       "\n",
       "   Claim_Value  Close_Value  \n",
       "0       350.00       350.00  \n",
       "1       100.00        50.00  \n",
       "2       278.88       227.92  \n",
       "3        50.00        50.00  \n",
       "4        84.79        84.79  "
      ]
     },
     "metadata": {},
     "output_type": "display_data"
    },
    {
     "data": {
      "text/html": [
       "<div>\n",
       "<style scoped>\n",
       "    .dataframe tbody tr th:only-of-type {\n",
       "        vertical-align: middle;\n",
       "    }\n",
       "\n",
       "    .dataframe tbody tr th {\n",
       "        vertical-align: top;\n",
       "    }\n",
       "\n",
       "    .dataframe thead th {\n",
       "        text-align: right;\n",
       "    }\n",
       "</style>\n",
       "<table border=\"1\" class=\"dataframe\">\n",
       "  <thead>\n",
       "    <tr style=\"text-align: right;\">\n",
       "      <th></th>\n",
       "      <th>Claim_Number</th>\n",
       "      <th>Airline_Name</th>\n",
       "      <th>Claim_Type</th>\n",
       "      <th>Claim_Site</th>\n",
       "      <th>Item</th>\n",
       "      <th>Status</th>\n",
       "      <th>Date_Received</th>\n",
       "      <th>Incident_Date</th>\n",
       "      <th>Airport_Code_Group</th>\n",
       "      <th>Airport_Name_Group</th>\n",
       "      <th>Claim_Value</th>\n",
       "      <th>Close_Value</th>\n",
       "    </tr>\n",
       "  </thead>\n",
       "  <tbody>\n",
       "    <tr>\n",
       "      <th>195595</th>\n",
       "      <td>2015010219516</td>\n",
       "      <td>SouthwestAirlines</td>\n",
       "      <td>Property Damage</td>\n",
       "      <td>Checked Baggage</td>\n",
       "      <td>Computer &amp; Accessories</td>\n",
       "      <td>Approved</td>\n",
       "      <td>2014-12-31</td>\n",
       "      <td>2014-12-08</td>\n",
       "      <td>FLL</td>\n",
       "      <td>Ft. Lauderdale-Hollywood International</td>\n",
       "      <td>800.00</td>\n",
       "      <td>NaN</td>\n",
       "    </tr>\n",
       "    <tr>\n",
       "      <th>195589</th>\n",
       "      <td>2015010219508</td>\n",
       "      <td>UAL</td>\n",
       "      <td>Property Damage</td>\n",
       "      <td>Checkpoint</td>\n",
       "      <td>Personal Accessories</td>\n",
       "      <td>Approved</td>\n",
       "      <td>2014-12-31</td>\n",
       "      <td>2014-12-14</td>\n",
       "      <td>SEA</td>\n",
       "      <td>Seattle-Tacoma International</td>\n",
       "      <td>50.00</td>\n",
       "      <td>NaN</td>\n",
       "    </tr>\n",
       "    <tr>\n",
       "      <th>195560</th>\n",
       "      <td>2014123019475</td>\n",
       "      <td>UAL</td>\n",
       "      <td>Property Damage</td>\n",
       "      <td>Checked Baggage</td>\n",
       "      <td>-</td>\n",
       "      <td>Approved</td>\n",
       "      <td>2014-12-31</td>\n",
       "      <td>2014-12-26</td>\n",
       "      <td>CLT</td>\n",
       "      <td>Charlotte/Douglas International Airport</td>\n",
       "      <td>24.95</td>\n",
       "      <td>NaN</td>\n",
       "    </tr>\n",
       "    <tr>\n",
       "      <th>195570</th>\n",
       "      <td>2014123119485</td>\n",
       "      <td>DeltaAirLines</td>\n",
       "      <td>Passenger Property Loss</td>\n",
       "      <td>Checked Baggage</td>\n",
       "      <td>Travel Accessories</td>\n",
       "      <td>Approved</td>\n",
       "      <td>2014-12-31</td>\n",
       "      <td>2014-12-29</td>\n",
       "      <td>DTW</td>\n",
       "      <td>Detroit Metropolitan Wayne County Airport</td>\n",
       "      <td>10.00</td>\n",
       "      <td>NaN</td>\n",
       "    </tr>\n",
       "    <tr>\n",
       "      <th>195568</th>\n",
       "      <td>2014123119483</td>\n",
       "      <td>AmericanAirlines</td>\n",
       "      <td>Passenger Property Loss</td>\n",
       "      <td>Checked Baggage</td>\n",
       "      <td>-</td>\n",
       "      <td>Approved</td>\n",
       "      <td>2014-12-31</td>\n",
       "      <td>2014-12-27</td>\n",
       "      <td>LAS</td>\n",
       "      <td>McCarran International</td>\n",
       "      <td>150.00</td>\n",
       "      <td>NaN</td>\n",
       "    </tr>\n",
       "  </tbody>\n",
       "</table>\n",
       "</div>"
      ],
      "text/plain": [
       "         Claim_Number       Airline_Name               Claim_Type  \\\n",
       "195595  2015010219516  SouthwestAirlines          Property Damage   \n",
       "195589  2015010219508                UAL          Property Damage   \n",
       "195560  2014123019475                UAL          Property Damage   \n",
       "195570  2014123119485      DeltaAirLines  Passenger Property Loss   \n",
       "195568  2014123119483   AmericanAirlines  Passenger Property Loss   \n",
       "\n",
       "             Claim_Site                    Item    Status Date_Received  \\\n",
       "195595  Checked Baggage  Computer & Accessories  Approved    2014-12-31   \n",
       "195589       Checkpoint    Personal Accessories  Approved    2014-12-31   \n",
       "195560  Checked Baggage                       -  Approved    2014-12-31   \n",
       "195570  Checked Baggage      Travel Accessories  Approved    2014-12-31   \n",
       "195568  Checked Baggage                       -  Approved    2014-12-31   \n",
       "\n",
       "       Incident_Date Airport_Code_Group  \\\n",
       "195595    2014-12-08                FLL   \n",
       "195589    2014-12-14                SEA   \n",
       "195560    2014-12-26                CLT   \n",
       "195570    2014-12-29                DTW   \n",
       "195568    2014-12-27                LAS   \n",
       "\n",
       "                               Airport_Name_Group  Claim_Value  Close_Value  \n",
       "195595     Ft. Lauderdale-Hollywood International       800.00          NaN  \n",
       "195589               Seattle-Tacoma International        50.00          NaN  \n",
       "195560    Charlotte/Douglas International Airport        24.95          NaN  \n",
       "195570  Detroit Metropolitan Wayne County Airport        10.00          NaN  \n",
       "195568                     McCarran International       150.00          NaN  "
      ]
     },
     "metadata": {},
     "output_type": "display_data"
    }
   ],
   "source": [
    "#Menyimpan data bersih sementara\n",
    "df_clean = df.drop(['Close_Amount', 'Claim_Amount', 'Disposition',\n",
    "                     'Date_Received_String','Incident_Date_String','Incident_Time',\n",
    "                     'Airport_Code','Airport_Name'],axis=1)\n",
    "\n",
    "df_clean.to_csv('tsa_claims_clean2.csv',index=False)\n",
    "\n",
    "display(df_clean.head(),df_clean.tail())"
   ]
  },
  {
   "cell_type": "code",
   "execution_count": 23,
   "metadata": {},
   "outputs": [
    {
     "data": {
      "text/plain": [
       "Claim_Number              0\n",
       "Airline_Name              0\n",
       "Claim_Type                0\n",
       "Claim_Site                0\n",
       "Item                      0\n",
       "Status                    0\n",
       "Date_Received             0\n",
       "Incident_Date             0\n",
       "Airport_Code_Group        0\n",
       "Airport_Name_Group        0\n",
       "Claim_Value               0\n",
       "Close_Value           16470\n",
       "dtype: int64"
      ]
     },
     "execution_count": 23,
     "metadata": {},
     "output_type": "execute_result"
    }
   ],
   "source": [
    "df_clean.isna().sum()"
   ]
  },
  {
   "cell_type": "markdown",
   "metadata": {},
   "source": [
    "masih ada 16000 data kosong di close_value, kita akan mengisi kolom tersebut sesuai kolom status dan claim value"
   ]
  },
  {
   "cell_type": "code",
   "execution_count": 24,
   "metadata": {},
   "outputs": [
    {
     "data": {
      "text/plain": [
       "16470"
      ]
     },
     "execution_count": 24,
     "metadata": {},
     "output_type": "execute_result"
    }
   ],
   "source": [
    "df_clean['Close_Value'].isna().sum()"
   ]
  },
  {
   "cell_type": "markdown",
   "metadata": {},
   "source": [
    "mengisi kolom Nan pada  close_value yang bernilai approved pada kolom status sama dengan nilai dari kolom claim value"
   ]
  },
  {
   "cell_type": "code",
   "execution_count": 25,
   "metadata": {},
   "outputs": [
    {
     "data": {
      "text/html": [
       "<div>\n",
       "<style scoped>\n",
       "    .dataframe tbody tr th:only-of-type {\n",
       "        vertical-align: middle;\n",
       "    }\n",
       "\n",
       "    .dataframe tbody tr th {\n",
       "        vertical-align: top;\n",
       "    }\n",
       "\n",
       "    .dataframe thead th {\n",
       "        text-align: right;\n",
       "    }\n",
       "</style>\n",
       "<table border=\"1\" class=\"dataframe\">\n",
       "  <thead>\n",
       "    <tr style=\"text-align: right;\">\n",
       "      <th></th>\n",
       "      <th>Claim_Number</th>\n",
       "      <th>Airline_Name</th>\n",
       "      <th>Claim_Type</th>\n",
       "      <th>Claim_Site</th>\n",
       "      <th>Item</th>\n",
       "      <th>Status</th>\n",
       "      <th>Date_Received</th>\n",
       "      <th>Incident_Date</th>\n",
       "      <th>Airport_Code_Group</th>\n",
       "      <th>Airport_Name_Group</th>\n",
       "      <th>Claim_Value</th>\n",
       "      <th>Close_Value</th>\n",
       "    </tr>\n",
       "  </thead>\n",
       "  <tbody>\n",
       "    <tr>\n",
       "      <th>90</th>\n",
       "      <td>19078</td>\n",
       "      <td>SouthwestAirlines</td>\n",
       "      <td>-</td>\n",
       "      <td>Other</td>\n",
       "      <td>Computer - Laptop</td>\n",
       "      <td>Approved</td>\n",
       "      <td>2002-10-17</td>\n",
       "      <td>2002-09-12</td>\n",
       "      <td>SAT</td>\n",
       "      <td>San Antonio International</td>\n",
       "      <td>30.00</td>\n",
       "      <td>NaN</td>\n",
       "    </tr>\n",
       "    <tr>\n",
       "      <th>108</th>\n",
       "      <td>21051</td>\n",
       "      <td>DeltaAirLines</td>\n",
       "      <td>-</td>\n",
       "      <td>Other</td>\n",
       "      <td>Cell Phones</td>\n",
       "      <td>Approved</td>\n",
       "      <td>2002-10-21</td>\n",
       "      <td>2002-10-03</td>\n",
       "      <td>ATL</td>\n",
       "      <td>Hartsfield-Jackson Atlanta International Airport</td>\n",
       "      <td>75.00</td>\n",
       "      <td>NaN</td>\n",
       "    </tr>\n",
       "    <tr>\n",
       "      <th>277</th>\n",
       "      <td>27499</td>\n",
       "      <td>-</td>\n",
       "      <td>Passenger Property Loss</td>\n",
       "      <td>Checkpoint</td>\n",
       "      <td>Jewelry - Fine</td>\n",
       "      <td>Approved</td>\n",
       "      <td>2002-11-16</td>\n",
       "      <td>2002-10-02</td>\n",
       "      <td>PHL</td>\n",
       "      <td>Philadelphia International Airport</td>\n",
       "      <td>50.00</td>\n",
       "      <td>NaN</td>\n",
       "    </tr>\n",
       "    <tr>\n",
       "      <th>454</th>\n",
       "      <td>0616755L</td>\n",
       "      <td>-</td>\n",
       "      <td>Property Damage</td>\n",
       "      <td>Checkpoint</td>\n",
       "      <td>Cell Phones</td>\n",
       "      <td>Approved</td>\n",
       "      <td>2002-12-03</td>\n",
       "      <td>2002-11-01</td>\n",
       "      <td>PHL</td>\n",
       "      <td>Philadelphia International Airport</td>\n",
       "      <td>53.00</td>\n",
       "      <td>NaN</td>\n",
       "    </tr>\n",
       "    <tr>\n",
       "      <th>457</th>\n",
       "      <td>19905</td>\n",
       "      <td>-</td>\n",
       "      <td>Passenger Property Loss</td>\n",
       "      <td>Checkpoint</td>\n",
       "      <td>Clothing - Shoes; belts; accessories; etc.</td>\n",
       "      <td>Approved</td>\n",
       "      <td>2002-12-03</td>\n",
       "      <td>2002-10-17</td>\n",
       "      <td>COS</td>\n",
       "      <td>Colorado Springs Municipal</td>\n",
       "      <td>125.00</td>\n",
       "      <td>NaN</td>\n",
       "    </tr>\n",
       "    <tr>\n",
       "      <th>...</th>\n",
       "      <td>...</td>\n",
       "      <td>...</td>\n",
       "      <td>...</td>\n",
       "      <td>...</td>\n",
       "      <td>...</td>\n",
       "      <td>...</td>\n",
       "      <td>...</td>\n",
       "      <td>...</td>\n",
       "      <td>...</td>\n",
       "      <td>...</td>\n",
       "      <td>...</td>\n",
       "      <td>...</td>\n",
       "    </tr>\n",
       "    <tr>\n",
       "      <th>195595</th>\n",
       "      <td>2015010219516</td>\n",
       "      <td>SouthwestAirlines</td>\n",
       "      <td>Property Damage</td>\n",
       "      <td>Checked Baggage</td>\n",
       "      <td>Computer &amp; Accessories</td>\n",
       "      <td>Approved</td>\n",
       "      <td>2014-12-31</td>\n",
       "      <td>2014-12-08</td>\n",
       "      <td>FLL</td>\n",
       "      <td>Ft. Lauderdale-Hollywood International</td>\n",
       "      <td>800.00</td>\n",
       "      <td>NaN</td>\n",
       "    </tr>\n",
       "    <tr>\n",
       "      <th>195589</th>\n",
       "      <td>2015010219508</td>\n",
       "      <td>UAL</td>\n",
       "      <td>Property Damage</td>\n",
       "      <td>Checkpoint</td>\n",
       "      <td>Personal Accessories</td>\n",
       "      <td>Approved</td>\n",
       "      <td>2014-12-31</td>\n",
       "      <td>2014-12-14</td>\n",
       "      <td>SEA</td>\n",
       "      <td>Seattle-Tacoma International</td>\n",
       "      <td>50.00</td>\n",
       "      <td>NaN</td>\n",
       "    </tr>\n",
       "    <tr>\n",
       "      <th>195560</th>\n",
       "      <td>2014123019475</td>\n",
       "      <td>UAL</td>\n",
       "      <td>Property Damage</td>\n",
       "      <td>Checked Baggage</td>\n",
       "      <td>-</td>\n",
       "      <td>Approved</td>\n",
       "      <td>2014-12-31</td>\n",
       "      <td>2014-12-26</td>\n",
       "      <td>CLT</td>\n",
       "      <td>Charlotte/Douglas International Airport</td>\n",
       "      <td>24.95</td>\n",
       "      <td>NaN</td>\n",
       "    </tr>\n",
       "    <tr>\n",
       "      <th>195570</th>\n",
       "      <td>2014123119485</td>\n",
       "      <td>DeltaAirLines</td>\n",
       "      <td>Passenger Property Loss</td>\n",
       "      <td>Checked Baggage</td>\n",
       "      <td>Travel Accessories</td>\n",
       "      <td>Approved</td>\n",
       "      <td>2014-12-31</td>\n",
       "      <td>2014-12-29</td>\n",
       "      <td>DTW</td>\n",
       "      <td>Detroit Metropolitan Wayne County Airport</td>\n",
       "      <td>10.00</td>\n",
       "      <td>NaN</td>\n",
       "    </tr>\n",
       "    <tr>\n",
       "      <th>195568</th>\n",
       "      <td>2014123119483</td>\n",
       "      <td>AmericanAirlines</td>\n",
       "      <td>Passenger Property Loss</td>\n",
       "      <td>Checked Baggage</td>\n",
       "      <td>-</td>\n",
       "      <td>Approved</td>\n",
       "      <td>2014-12-31</td>\n",
       "      <td>2014-12-27</td>\n",
       "      <td>LAS</td>\n",
       "      <td>McCarran International</td>\n",
       "      <td>150.00</td>\n",
       "      <td>NaN</td>\n",
       "    </tr>\n",
       "  </tbody>\n",
       "</table>\n",
       "<p>10521 rows × 12 columns</p>\n",
       "</div>"
      ],
      "text/plain": [
       "         Claim_Number       Airline_Name               Claim_Type  \\\n",
       "90              19078  SouthwestAirlines                        -   \n",
       "108             21051      DeltaAirLines                        -   \n",
       "277             27499                  -  Passenger Property Loss   \n",
       "454          0616755L                  -          Property Damage   \n",
       "457             19905                  -  Passenger Property Loss   \n",
       "...               ...                ...                      ...   \n",
       "195595  2015010219516  SouthwestAirlines          Property Damage   \n",
       "195589  2015010219508                UAL          Property Damage   \n",
       "195560  2014123019475                UAL          Property Damage   \n",
       "195570  2014123119485      DeltaAirLines  Passenger Property Loss   \n",
       "195568  2014123119483   AmericanAirlines  Passenger Property Loss   \n",
       "\n",
       "             Claim_Site                                        Item    Status  \\\n",
       "90                Other                           Computer - Laptop  Approved   \n",
       "108               Other                                 Cell Phones  Approved   \n",
       "277          Checkpoint                              Jewelry - Fine  Approved   \n",
       "454          Checkpoint                                 Cell Phones  Approved   \n",
       "457          Checkpoint  Clothing - Shoes; belts; accessories; etc.  Approved   \n",
       "...                 ...                                         ...       ...   \n",
       "195595  Checked Baggage                      Computer & Accessories  Approved   \n",
       "195589       Checkpoint                        Personal Accessories  Approved   \n",
       "195560  Checked Baggage                                           -  Approved   \n",
       "195570  Checked Baggage                          Travel Accessories  Approved   \n",
       "195568  Checked Baggage                                           -  Approved   \n",
       "\n",
       "       Date_Received Incident_Date Airport_Code_Group  \\\n",
       "90        2002-10-17    2002-09-12                SAT   \n",
       "108       2002-10-21    2002-10-03                ATL   \n",
       "277       2002-11-16    2002-10-02                PHL   \n",
       "454       2002-12-03    2002-11-01                PHL   \n",
       "457       2002-12-03    2002-10-17                COS   \n",
       "...              ...           ...                ...   \n",
       "195595    2014-12-31    2014-12-08                FLL   \n",
       "195589    2014-12-31    2014-12-14                SEA   \n",
       "195560    2014-12-31    2014-12-26                CLT   \n",
       "195570    2014-12-31    2014-12-29                DTW   \n",
       "195568    2014-12-31    2014-12-27                LAS   \n",
       "\n",
       "                                      Airport_Name_Group  Claim_Value  \\\n",
       "90                             San Antonio International        30.00   \n",
       "108     Hartsfield-Jackson Atlanta International Airport        75.00   \n",
       "277                   Philadelphia International Airport        50.00   \n",
       "454                   Philadelphia International Airport        53.00   \n",
       "457                           Colorado Springs Municipal       125.00   \n",
       "...                                                  ...          ...   \n",
       "195595            Ft. Lauderdale-Hollywood International       800.00   \n",
       "195589                      Seattle-Tacoma International        50.00   \n",
       "195560           Charlotte/Douglas International Airport        24.95   \n",
       "195570         Detroit Metropolitan Wayne County Airport        10.00   \n",
       "195568                            McCarran International       150.00   \n",
       "\n",
       "        Close_Value  \n",
       "90              NaN  \n",
       "108             NaN  \n",
       "277             NaN  \n",
       "454             NaN  \n",
       "457             NaN  \n",
       "...             ...  \n",
       "195595          NaN  \n",
       "195589          NaN  \n",
       "195560          NaN  \n",
       "195570          NaN  \n",
       "195568          NaN  \n",
       "\n",
       "[10521 rows x 12 columns]"
      ]
     },
     "execution_count": 25,
     "metadata": {},
     "output_type": "execute_result"
    }
   ],
   "source": [
    "df_clean[(df_clean['Status']=='Approved') & (df_clean['Close_Value'].isna())]  "
   ]
  },
  {
   "cell_type": "code",
   "execution_count": 26,
   "metadata": {},
   "outputs": [],
   "source": [
    "df_clean.loc[(df_clean['Status']=='Approved') & (df['Close_Value'].isna()),['Close_Value']]=df_clean[(df_clean['Status']=='Approved') & (df['Close_Value'].isna())]['Claim_Value']"
   ]
  },
  {
   "cell_type": "code",
   "execution_count": 27,
   "metadata": {},
   "outputs": [
    {
     "data": {
      "text/html": [
       "<div>\n",
       "<style scoped>\n",
       "    .dataframe tbody tr th:only-of-type {\n",
       "        vertical-align: middle;\n",
       "    }\n",
       "\n",
       "    .dataframe tbody tr th {\n",
       "        vertical-align: top;\n",
       "    }\n",
       "\n",
       "    .dataframe thead th {\n",
       "        text-align: right;\n",
       "    }\n",
       "</style>\n",
       "<table border=\"1\" class=\"dataframe\">\n",
       "  <thead>\n",
       "    <tr style=\"text-align: right;\">\n",
       "      <th></th>\n",
       "      <th>Status</th>\n",
       "      <th>Claim_Value</th>\n",
       "      <th>Close_Value</th>\n",
       "    </tr>\n",
       "  </thead>\n",
       "  <tbody>\n",
       "  </tbody>\n",
       "</table>\n",
       "</div>"
      ],
      "text/plain": [
       "Empty DataFrame\n",
       "Columns: [Status, Claim_Value, Close_Value]\n",
       "Index: []"
      ]
     },
     "execution_count": 27,
     "metadata": {},
     "output_type": "execute_result"
    }
   ],
   "source": [
    "# cek data kosong yang statusnya approved\n",
    "df_clean[(df_clean['Status']=='Approved') & (df_clean['Close_Value'].isna())][['Status','Claim_Value','Close_Value']]"
   ]
  },
  {
   "cell_type": "markdown",
   "metadata": {},
   "source": [
    "mengisi kolom Nan pada  close_value yang bernilai denied pada kolom status dengan nilai 0"
   ]
  },
  {
   "cell_type": "code",
   "execution_count": 28,
   "metadata": {},
   "outputs": [
    {
     "data": {
      "text/plain": [
       "5949"
      ]
     },
     "execution_count": 28,
     "metadata": {},
     "output_type": "execute_result"
    }
   ],
   "source": [
    "df_clean['Close_Value'].isna().sum()"
   ]
  },
  {
   "cell_type": "code",
   "execution_count": 29,
   "metadata": {},
   "outputs": [
    {
     "data": {
      "text/html": [
       "<div>\n",
       "<style scoped>\n",
       "    .dataframe tbody tr th:only-of-type {\n",
       "        vertical-align: middle;\n",
       "    }\n",
       "\n",
       "    .dataframe tbody tr th {\n",
       "        vertical-align: top;\n",
       "    }\n",
       "\n",
       "    .dataframe thead th {\n",
       "        text-align: right;\n",
       "    }\n",
       "</style>\n",
       "<table border=\"1\" class=\"dataframe\">\n",
       "  <thead>\n",
       "    <tr style=\"text-align: right;\">\n",
       "      <th></th>\n",
       "      <th>Claim_Number</th>\n",
       "      <th>Airline_Name</th>\n",
       "      <th>Claim_Type</th>\n",
       "      <th>Claim_Site</th>\n",
       "      <th>Item</th>\n",
       "      <th>Status</th>\n",
       "      <th>Date_Received</th>\n",
       "      <th>Incident_Date</th>\n",
       "      <th>Airport_Code_Group</th>\n",
       "      <th>Airport_Name_Group</th>\n",
       "      <th>Claim_Value</th>\n",
       "      <th>Close_Value</th>\n",
       "    </tr>\n",
       "  </thead>\n",
       "  <tbody>\n",
       "    <tr>\n",
       "      <th>9</th>\n",
       "      <td>2004102965797</td>\n",
       "      <td>-</td>\n",
       "      <td>Passenger Property Loss</td>\n",
       "      <td>Checkpoint</td>\n",
       "      <td>Jewelry - Fine</td>\n",
       "      <td>Denied</td>\n",
       "      <td>2002-06-25</td>\n",
       "      <td>2002-05-04</td>\n",
       "      <td>ATL</td>\n",
       "      <td>Hartsfield-Jackson Atlanta International Airport</td>\n",
       "      <td>4457.29</td>\n",
       "      <td>NaN</td>\n",
       "    </tr>\n",
       "    <tr>\n",
       "      <th>33</th>\n",
       "      <td>2004050550501</td>\n",
       "      <td>-</td>\n",
       "      <td>Passenger Property Loss</td>\n",
       "      <td>Checkpoint</td>\n",
       "      <td>Other</td>\n",
       "      <td>Denied</td>\n",
       "      <td>2002-09-11</td>\n",
       "      <td>2002-08-05</td>\n",
       "      <td>BWI</td>\n",
       "      <td>Baltimore/Washington Intl Thurgood Marshall</td>\n",
       "      <td>1200.00</td>\n",
       "      <td>NaN</td>\n",
       "    </tr>\n",
       "    <tr>\n",
       "      <th>36</th>\n",
       "      <td>18193</td>\n",
       "      <td>AmericanAirlines</td>\n",
       "      <td>-</td>\n",
       "      <td>Other</td>\n",
       "      <td>Currency</td>\n",
       "      <td>Denied</td>\n",
       "      <td>2002-09-16</td>\n",
       "      <td>2002-07-26</td>\n",
       "      <td>BWI</td>\n",
       "      <td>Baltimore/Washington Intl Thurgood Marshall</td>\n",
       "      <td>428.21</td>\n",
       "      <td>NaN</td>\n",
       "    </tr>\n",
       "    <tr>\n",
       "      <th>299</th>\n",
       "      <td>20856</td>\n",
       "      <td>SouthwestAirlines</td>\n",
       "      <td>-</td>\n",
       "      <td>Other</td>\n",
       "      <td>Baby - Strollers; car seats; playpen; etc.</td>\n",
       "      <td>Denied</td>\n",
       "      <td>2002-11-19</td>\n",
       "      <td>2002-10-30</td>\n",
       "      <td>SEA</td>\n",
       "      <td>Seattle-Tacoma International</td>\n",
       "      <td>23105.00</td>\n",
       "      <td>NaN</td>\n",
       "    </tr>\n",
       "    <tr>\n",
       "      <th>524</th>\n",
       "      <td>21386</td>\n",
       "      <td>SouthwestAirlines</td>\n",
       "      <td>-</td>\n",
       "      <td>Other</td>\n",
       "      <td>Clothing - Shoes; belts; accessories; etc.</td>\n",
       "      <td>Denied</td>\n",
       "      <td>2002-12-09</td>\n",
       "      <td>2002-09-04</td>\n",
       "      <td>RDU</td>\n",
       "      <td>Raleigh-Durham International</td>\n",
       "      <td>5.18</td>\n",
       "      <td>NaN</td>\n",
       "    </tr>\n",
       "    <tr>\n",
       "      <th>...</th>\n",
       "      <td>...</td>\n",
       "      <td>...</td>\n",
       "      <td>...</td>\n",
       "      <td>...</td>\n",
       "      <td>...</td>\n",
       "      <td>...</td>\n",
       "      <td>...</td>\n",
       "      <td>...</td>\n",
       "      <td>...</td>\n",
       "      <td>...</td>\n",
       "      <td>...</td>\n",
       "      <td>...</td>\n",
       "    </tr>\n",
       "    <tr>\n",
       "      <th>94629</th>\n",
       "      <td>2006112015869</td>\n",
       "      <td>-</td>\n",
       "      <td>Property Damage</td>\n",
       "      <td>Checkpoint</td>\n",
       "      <td>Computer - Laptop</td>\n",
       "      <td>Denied</td>\n",
       "      <td>2006-11-14</td>\n",
       "      <td>2006-08-10</td>\n",
       "      <td>SAN</td>\n",
       "      <td>San Diego International</td>\n",
       "      <td>2100.00</td>\n",
       "      <td>NaN</td>\n",
       "    </tr>\n",
       "    <tr>\n",
       "      <th>94914</th>\n",
       "      <td>2006112816306</td>\n",
       "      <td>DeltaAirLines</td>\n",
       "      <td>Property Damage</td>\n",
       "      <td>Checked Baggage</td>\n",
       "      <td>Cosmetics - Perfume; toilet articles; medicine...</td>\n",
       "      <td>Denied</td>\n",
       "      <td>2006-11-20</td>\n",
       "      <td>2006-11-04</td>\n",
       "      <td>SLC</td>\n",
       "      <td>Salt Lake City International Airport</td>\n",
       "      <td>65.42</td>\n",
       "      <td>NaN</td>\n",
       "    </tr>\n",
       "    <tr>\n",
       "      <th>99474</th>\n",
       "      <td>2007020920633</td>\n",
       "      <td>FrontierAirlines</td>\n",
       "      <td>Passenger Property Loss</td>\n",
       "      <td>Checked Baggage</td>\n",
       "      <td>Other</td>\n",
       "      <td>Denied</td>\n",
       "      <td>2007-02-06</td>\n",
       "      <td>2006-12-11</td>\n",
       "      <td>LAS</td>\n",
       "      <td>McCarran International</td>\n",
       "      <td>188.74</td>\n",
       "      <td>NaN</td>\n",
       "    </tr>\n",
       "    <tr>\n",
       "      <th>101794</th>\n",
       "      <td>2007032723018</td>\n",
       "      <td>SouthwestAirlines</td>\n",
       "      <td>Passenger Property Loss</td>\n",
       "      <td>Checkpoint</td>\n",
       "      <td>Currency</td>\n",
       "      <td>Denied</td>\n",
       "      <td>2007-03-23</td>\n",
       "      <td>2007-01-31</td>\n",
       "      <td>OAK</td>\n",
       "      <td>Metropolitan Oakland International</td>\n",
       "      <td>1000.00</td>\n",
       "      <td>NaN</td>\n",
       "    </tr>\n",
       "    <tr>\n",
       "      <th>106364</th>\n",
       "      <td>2007070227718</td>\n",
       "      <td>UAL</td>\n",
       "      <td>Property Damage</td>\n",
       "      <td>Checked Baggage</td>\n",
       "      <td>Computer - Laptop</td>\n",
       "      <td>Denied</td>\n",
       "      <td>2007-06-25</td>\n",
       "      <td>2007-05-16</td>\n",
       "      <td>LAS</td>\n",
       "      <td>McCarran International</td>\n",
       "      <td>295.00</td>\n",
       "      <td>NaN</td>\n",
       "    </tr>\n",
       "  </tbody>\n",
       "</table>\n",
       "<p>1252 rows × 12 columns</p>\n",
       "</div>"
      ],
      "text/plain": [
       "         Claim_Number       Airline_Name               Claim_Type  \\\n",
       "9       2004102965797                  -  Passenger Property Loss   \n",
       "33      2004050550501                  -  Passenger Property Loss   \n",
       "36              18193   AmericanAirlines                        -   \n",
       "299             20856  SouthwestAirlines                        -   \n",
       "524             21386  SouthwestAirlines                        -   \n",
       "...               ...                ...                      ...   \n",
       "94629   2006112015869                  -          Property Damage   \n",
       "94914   2006112816306      DeltaAirLines          Property Damage   \n",
       "99474   2007020920633   FrontierAirlines  Passenger Property Loss   \n",
       "101794  2007032723018  SouthwestAirlines  Passenger Property Loss   \n",
       "106364  2007070227718                UAL          Property Damage   \n",
       "\n",
       "             Claim_Site                                               Item  \\\n",
       "9            Checkpoint                                     Jewelry - Fine   \n",
       "33           Checkpoint                                              Other   \n",
       "36                Other                                           Currency   \n",
       "299               Other         Baby - Strollers; car seats; playpen; etc.   \n",
       "524               Other         Clothing - Shoes; belts; accessories; etc.   \n",
       "...                 ...                                                ...   \n",
       "94629        Checkpoint                                  Computer - Laptop   \n",
       "94914   Checked Baggage  Cosmetics - Perfume; toilet articles; medicine...   \n",
       "99474   Checked Baggage                                              Other   \n",
       "101794       Checkpoint                                           Currency   \n",
       "106364  Checked Baggage                                  Computer - Laptop   \n",
       "\n",
       "        Status Date_Received Incident_Date Airport_Code_Group  \\\n",
       "9       Denied    2002-06-25    2002-05-04                ATL   \n",
       "33      Denied    2002-09-11    2002-08-05                BWI   \n",
       "36      Denied    2002-09-16    2002-07-26                BWI   \n",
       "299     Denied    2002-11-19    2002-10-30                SEA   \n",
       "524     Denied    2002-12-09    2002-09-04                RDU   \n",
       "...        ...           ...           ...                ...   \n",
       "94629   Denied    2006-11-14    2006-08-10                SAN   \n",
       "94914   Denied    2006-11-20    2006-11-04                SLC   \n",
       "99474   Denied    2007-02-06    2006-12-11                LAS   \n",
       "101794  Denied    2007-03-23    2007-01-31                OAK   \n",
       "106364  Denied    2007-06-25    2007-05-16                LAS   \n",
       "\n",
       "                                      Airport_Name_Group  Claim_Value  \\\n",
       "9       Hartsfield-Jackson Atlanta International Airport      4457.29   \n",
       "33           Baltimore/Washington Intl Thurgood Marshall      1200.00   \n",
       "36           Baltimore/Washington Intl Thurgood Marshall       428.21   \n",
       "299                         Seattle-Tacoma International     23105.00   \n",
       "524                         Raleigh-Durham International         5.18   \n",
       "...                                                  ...          ...   \n",
       "94629                            San Diego International      2100.00   \n",
       "94914               Salt Lake City International Airport        65.42   \n",
       "99474                             McCarran International       188.74   \n",
       "101794                Metropolitan Oakland International      1000.00   \n",
       "106364                            McCarran International       295.00   \n",
       "\n",
       "        Close_Value  \n",
       "9               NaN  \n",
       "33              NaN  \n",
       "36              NaN  \n",
       "299             NaN  \n",
       "524             NaN  \n",
       "...             ...  \n",
       "94629           NaN  \n",
       "94914           NaN  \n",
       "99474           NaN  \n",
       "101794          NaN  \n",
       "106364          NaN  \n",
       "\n",
       "[1252 rows x 12 columns]"
      ]
     },
     "execution_count": 29,
     "metadata": {},
     "output_type": "execute_result"
    }
   ],
   "source": [
    "df_clean[(df_clean['Status']=='Denied') & (df_clean['Close_Value'].isna())]  "
   ]
  },
  {
   "cell_type": "code",
   "execution_count": 30,
   "metadata": {},
   "outputs": [],
   "source": [
    "df_clean.loc[(df_clean['Status']=='Denied') & (df['Close_Value'].isna()),['Close_Value']]=df_clean[(df_clean['Status']=='Denied') & (df['Close_Value'].isna())].fillna(0)"
   ]
  },
  {
   "cell_type": "code",
   "execution_count": 31,
   "metadata": {},
   "outputs": [
    {
     "data": {
      "text/plain": [
       "4697"
      ]
     },
     "execution_count": 31,
     "metadata": {},
     "output_type": "execute_result"
    }
   ],
   "source": [
    "df_clean['Close_Value'].isna().sum()"
   ]
  },
  {
   "cell_type": "markdown",
   "metadata": {},
   "source": [
    "mengisi kolom Nan pada  close_value yang bernilai settled pada kolom status dengan median/mean tergantung sifat datanya, pertama-tama data di normal test"
   ]
  },
  {
   "cell_type": "code",
   "execution_count": 32,
   "metadata": {},
   "outputs": [
    {
     "data": {
      "text/plain": [
       "NormaltestResult(statistic=679587.780537343, pvalue=0.0)"
      ]
     },
     "execution_count": 32,
     "metadata": {},
     "output_type": "execute_result"
    }
   ],
   "source": [
    "from scipy.stats import normaltest\n",
    "\n",
    "normaltest(df_clean['Close_Value'].dropna())\n",
    "# pvalue < 0.05 maka kolom tidak normal, diisi median"
   ]
  },
  {
   "cell_type": "code",
   "execution_count": 33,
   "metadata": {},
   "outputs": [
    {
     "data": {
      "text/plain": [
       "count    140315.000000\n",
       "mean        105.265343\n",
       "std         888.066512\n",
       "min           0.000000\n",
       "25%           0.000000\n",
       "50%          10.000000\n",
       "75%          80.695000\n",
       "max      250000.000000\n",
       "Name: Close_Value, dtype: float64"
      ]
     },
     "execution_count": 33,
     "metadata": {},
     "output_type": "execute_result"
    }
   ],
   "source": [
    "df_clean['Close_Value'].describe()"
   ]
  },
  {
   "cell_type": "code",
   "execution_count": 34,
   "metadata": {},
   "outputs": [],
   "source": [
    "df_clean.loc[(df_clean['Status']=='Settled') & (df['Close_Value'].isna()),['Close_Value']]=df_clean[(df_clean['Status']=='Settled') & (df['Close_Value'].isna())].fillna(10)"
   ]
  },
  {
   "cell_type": "code",
   "execution_count": 35,
   "metadata": {},
   "outputs": [
    {
     "data": {
      "text/plain": [
       "Claim_Number          0\n",
       "Airline_Name          0\n",
       "Claim_Type            0\n",
       "Claim_Site            0\n",
       "Item                  0\n",
       "Status                0\n",
       "Date_Received         0\n",
       "Incident_Date         0\n",
       "Airport_Code_Group    0\n",
       "Airport_Name_Group    0\n",
       "Claim_Value           0\n",
       "Close_Value           0\n",
       "dtype: int64"
      ]
     },
     "execution_count": 35,
     "metadata": {},
     "output_type": "execute_result"
    }
   ],
   "source": [
    "df_clean.isna().sum()"
   ]
  },
  {
   "cell_type": "code",
   "execution_count": 36,
   "metadata": {},
   "outputs": [],
   "source": [
    "df_clean.columns = [s.strip().replace('_',' ') for s in df_clean.columns]"
   ]
  },
  {
   "cell_type": "code",
   "execution_count": 37,
   "metadata": {},
   "outputs": [],
   "source": [
    "# Menyimpan data bersih final\n",
    "df_clean.to_csv('TSA bersih.csv')"
   ]
  },
  {
   "cell_type": "code",
   "execution_count": 51,
   "metadata": {},
   "outputs": [
    {
     "data": {
      "text/plain": [
       "Claim Number          0\n",
       "Airline Name          0\n",
       "Claim Type            0\n",
       "Claim Site            0\n",
       "Item                  0\n",
       "Status                0\n",
       "Date Received         0\n",
       "Incident Date         0\n",
       "Airport Code Group    0\n",
       "Airport Name Group    0\n",
       "Claim Value           0\n",
       "Close Value           0\n",
       "Day_Range             0\n",
       "Day Range             0\n",
       "Month Range           0\n",
       "dtype: int64"
      ]
     },
     "execution_count": 51,
     "metadata": {},
     "output_type": "execute_result"
    }
   ],
   "source": [
    "df_clean.isna().sum()"
   ]
  },
  {
   "cell_type": "markdown",
   "metadata": {},
   "source": [
    "## 2.3 Data feature"
   ]
  },
  {
   "cell_type": "markdown",
   "metadata": {},
   "source": [
    "Membuat kolom day range berdasarkan perbedaan waktu"
   ]
  },
  {
   "cell_type": "code",
   "execution_count": 38,
   "metadata": {},
   "outputs": [],
   "source": [
    "dfb=df_clean"
   ]
  },
  {
   "cell_type": "code",
   "execution_count": 43,
   "metadata": {},
   "outputs": [],
   "source": [
    "dfb['Day Range'] = (dfb['Date Received'] - dfb['Incident Date']) / np.timedelta64(1, 'D')"
   ]
  },
  {
   "cell_type": "code",
   "execution_count": 44,
   "metadata": {},
   "outputs": [
    {
     "data": {
      "text/html": [
       "<div>\n",
       "<style scoped>\n",
       "    .dataframe tbody tr th:only-of-type {\n",
       "        vertical-align: middle;\n",
       "    }\n",
       "\n",
       "    .dataframe tbody tr th {\n",
       "        vertical-align: top;\n",
       "    }\n",
       "\n",
       "    .dataframe thead th {\n",
       "        text-align: right;\n",
       "    }\n",
       "</style>\n",
       "<table border=\"1\" class=\"dataframe\">\n",
       "  <thead>\n",
       "    <tr style=\"text-align: right;\">\n",
       "      <th></th>\n",
       "      <th>Claim Number</th>\n",
       "      <th>Airline Name</th>\n",
       "      <th>Claim Type</th>\n",
       "      <th>Claim Site</th>\n",
       "      <th>Item</th>\n",
       "      <th>Status</th>\n",
       "      <th>Date Received</th>\n",
       "      <th>Incident Date</th>\n",
       "      <th>Airport Code Group</th>\n",
       "      <th>Airport Name Group</th>\n",
       "      <th>Claim Value</th>\n",
       "      <th>Close Value</th>\n",
       "      <th>Day_Range</th>\n",
       "      <th>Day Range</th>\n",
       "    </tr>\n",
       "  </thead>\n",
       "  <tbody>\n",
       "    <tr>\n",
       "      <th>0</th>\n",
       "      <td>0909802M</td>\n",
       "      <td>ContinentalAirlines</td>\n",
       "      <td>Property Damage</td>\n",
       "      <td>Checkpoint</td>\n",
       "      <td>Other</td>\n",
       "      <td>Approved</td>\n",
       "      <td>2002-01-04</td>\n",
       "      <td>2002-12-12</td>\n",
       "      <td>EWR</td>\n",
       "      <td>Newark International Airport</td>\n",
       "      <td>350.00</td>\n",
       "      <td>350.00</td>\n",
       "      <td>-342.0</td>\n",
       "      <td>-342.0</td>\n",
       "    </tr>\n",
       "    <tr>\n",
       "      <th>1</th>\n",
       "      <td>0202417M</td>\n",
       "      <td>-</td>\n",
       "      <td>Property Damage</td>\n",
       "      <td>Checked Baggage</td>\n",
       "      <td>Luggage (all types including footlockers)</td>\n",
       "      <td>Settled</td>\n",
       "      <td>2002-02-02</td>\n",
       "      <td>2004-01-16</td>\n",
       "      <td>SEA</td>\n",
       "      <td>Seattle-Tacoma International</td>\n",
       "      <td>100.00</td>\n",
       "      <td>50.00</td>\n",
       "      <td>-713.0</td>\n",
       "      <td>-713.0</td>\n",
       "    </tr>\n",
       "    <tr>\n",
       "      <th>2</th>\n",
       "      <td>0202445M</td>\n",
       "      <td>AmericanAirlines</td>\n",
       "      <td>Property Damage</td>\n",
       "      <td>Checked Baggage</td>\n",
       "      <td>Cell Phones</td>\n",
       "      <td>Settled</td>\n",
       "      <td>2002-02-04</td>\n",
       "      <td>2003-11-26</td>\n",
       "      <td>STL</td>\n",
       "      <td>Lambert St. Louis International</td>\n",
       "      <td>278.88</td>\n",
       "      <td>227.92</td>\n",
       "      <td>-660.0</td>\n",
       "      <td>-660.0</td>\n",
       "    </tr>\n",
       "    <tr>\n",
       "      <th>3</th>\n",
       "      <td>0909816M</td>\n",
       "      <td>AmericanAirlines</td>\n",
       "      <td>Property Damage</td>\n",
       "      <td>Checkpoint</td>\n",
       "      <td>Luggage (all types including footlockers)</td>\n",
       "      <td>Approved</td>\n",
       "      <td>2002-02-07</td>\n",
       "      <td>2003-01-06</td>\n",
       "      <td>MIA</td>\n",
       "      <td>Miami International Airport</td>\n",
       "      <td>50.00</td>\n",
       "      <td>50.00</td>\n",
       "      <td>-333.0</td>\n",
       "      <td>-333.0</td>\n",
       "    </tr>\n",
       "    <tr>\n",
       "      <th>4</th>\n",
       "      <td>2005032379513</td>\n",
       "      <td>DeltaAirLines</td>\n",
       "      <td>Property Damage</td>\n",
       "      <td>Checkpoint</td>\n",
       "      <td>Baby - Strollers; car seats; playpen; etc.</td>\n",
       "      <td>Approved</td>\n",
       "      <td>2002-02-18</td>\n",
       "      <td>2005-02-05</td>\n",
       "      <td>MCO</td>\n",
       "      <td>Orlando International Airport</td>\n",
       "      <td>84.79</td>\n",
       "      <td>84.79</td>\n",
       "      <td>-1083.0</td>\n",
       "      <td>-1083.0</td>\n",
       "    </tr>\n",
       "    <tr>\n",
       "      <th>...</th>\n",
       "      <td>...</td>\n",
       "      <td>...</td>\n",
       "      <td>...</td>\n",
       "      <td>...</td>\n",
       "      <td>...</td>\n",
       "      <td>...</td>\n",
       "      <td>...</td>\n",
       "      <td>...</td>\n",
       "      <td>...</td>\n",
       "      <td>...</td>\n",
       "      <td>...</td>\n",
       "      <td>...</td>\n",
       "      <td>...</td>\n",
       "      <td>...</td>\n",
       "    </tr>\n",
       "    <tr>\n",
       "      <th>160056</th>\n",
       "      <td>2011051983573</td>\n",
       "      <td>USAir</td>\n",
       "      <td>Passenger Property Loss</td>\n",
       "      <td>Checkpoint</td>\n",
       "      <td>Jewelry &amp; Watches</td>\n",
       "      <td>Approved</td>\n",
       "      <td>2011-05-09</td>\n",
       "      <td>2011-05-19</td>\n",
       "      <td>MIA</td>\n",
       "      <td>Miami International Airport</td>\n",
       "      <td>1518.02</td>\n",
       "      <td>1518.02</td>\n",
       "      <td>-10.0</td>\n",
       "      <td>-10.0</td>\n",
       "    </tr>\n",
       "    <tr>\n",
       "      <th>160104</th>\n",
       "      <td>2011052083590</td>\n",
       "      <td>AirTranAirlines</td>\n",
       "      <td>Passenger Property Loss</td>\n",
       "      <td>Checkpoint</td>\n",
       "      <td>Currency</td>\n",
       "      <td>Approved</td>\n",
       "      <td>2011-05-10</td>\n",
       "      <td>2011-05-12</td>\n",
       "      <td>MCO</td>\n",
       "      <td>Orlando International Airport</td>\n",
       "      <td>150.00</td>\n",
       "      <td>150.00</td>\n",
       "      <td>-2.0</td>\n",
       "      <td>-2.0</td>\n",
       "    </tr>\n",
       "    <tr>\n",
       "      <th>160238</th>\n",
       "      <td>2011052583746</td>\n",
       "      <td>AmericanAirlines</td>\n",
       "      <td>Passenger Property Loss</td>\n",
       "      <td>Checked Baggage</td>\n",
       "      <td>Household Items</td>\n",
       "      <td>Approved</td>\n",
       "      <td>2011-05-16</td>\n",
       "      <td>2011-05-25</td>\n",
       "      <td>MIA</td>\n",
       "      <td>Miami International Airport</td>\n",
       "      <td>75.06</td>\n",
       "      <td>75.06</td>\n",
       "      <td>-9.0</td>\n",
       "      <td>-9.0</td>\n",
       "    </tr>\n",
       "    <tr>\n",
       "      <th>160616</th>\n",
       "      <td>2011070184929</td>\n",
       "      <td>AmericanAirlines</td>\n",
       "      <td>Property Damage</td>\n",
       "      <td>Checked Baggage</td>\n",
       "      <td>Travel Accessories</td>\n",
       "      <td>Settled</td>\n",
       "      <td>2011-05-26</td>\n",
       "      <td>2011-07-01</td>\n",
       "      <td>Other</td>\n",
       "      <td>Other</td>\n",
       "      <td>50.00</td>\n",
       "      <td>10.00</td>\n",
       "      <td>-36.0</td>\n",
       "      <td>-36.0</td>\n",
       "    </tr>\n",
       "    <tr>\n",
       "      <th>160772</th>\n",
       "      <td>2011061584353</td>\n",
       "      <td>-</td>\n",
       "      <td>Property Damage</td>\n",
       "      <td>Checkpoint</td>\n",
       "      <td>Home Decor</td>\n",
       "      <td>Approved</td>\n",
       "      <td>2011-06-01</td>\n",
       "      <td>2011-06-15</td>\n",
       "      <td>HNL</td>\n",
       "      <td>Honolulu International Airport</td>\n",
       "      <td>95.00</td>\n",
       "      <td>95.00</td>\n",
       "      <td>-14.0</td>\n",
       "      <td>-14.0</td>\n",
       "    </tr>\n",
       "  </tbody>\n",
       "</table>\n",
       "<p>1316 rows × 14 columns</p>\n",
       "</div>"
      ],
      "text/plain": [
       "         Claim Number         Airline Name               Claim Type  \\\n",
       "0            0909802M  ContinentalAirlines          Property Damage   \n",
       "1            0202417M                    -          Property Damage   \n",
       "2            0202445M     AmericanAirlines          Property Damage   \n",
       "3            0909816M     AmericanAirlines          Property Damage   \n",
       "4       2005032379513        DeltaAirLines          Property Damage   \n",
       "...               ...                  ...                      ...   \n",
       "160056  2011051983573                USAir  Passenger Property Loss   \n",
       "160104  2011052083590      AirTranAirlines  Passenger Property Loss   \n",
       "160238  2011052583746     AmericanAirlines  Passenger Property Loss   \n",
       "160616  2011070184929     AmericanAirlines          Property Damage   \n",
       "160772  2011061584353                    -          Property Damage   \n",
       "\n",
       "             Claim Site                                        Item    Status  \\\n",
       "0            Checkpoint                                       Other  Approved   \n",
       "1       Checked Baggage   Luggage (all types including footlockers)   Settled   \n",
       "2       Checked Baggage                                 Cell Phones   Settled   \n",
       "3            Checkpoint   Luggage (all types including footlockers)  Approved   \n",
       "4            Checkpoint  Baby - Strollers; car seats; playpen; etc.  Approved   \n",
       "...                 ...                                         ...       ...   \n",
       "160056       Checkpoint                           Jewelry & Watches  Approved   \n",
       "160104       Checkpoint                                    Currency  Approved   \n",
       "160238  Checked Baggage                             Household Items  Approved   \n",
       "160616  Checked Baggage                          Travel Accessories   Settled   \n",
       "160772       Checkpoint                                  Home Decor  Approved   \n",
       "\n",
       "       Date Received Incident Date Airport Code Group  \\\n",
       "0         2002-01-04    2002-12-12                EWR   \n",
       "1         2002-02-02    2004-01-16                SEA   \n",
       "2         2002-02-04    2003-11-26                STL   \n",
       "3         2002-02-07    2003-01-06                MIA   \n",
       "4         2002-02-18    2005-02-05                MCO   \n",
       "...              ...           ...                ...   \n",
       "160056    2011-05-09    2011-05-19                MIA   \n",
       "160104    2011-05-10    2011-05-12                MCO   \n",
       "160238    2011-05-16    2011-05-25                MIA   \n",
       "160616    2011-05-26    2011-07-01              Other   \n",
       "160772    2011-06-01    2011-06-15                HNL   \n",
       "\n",
       "                     Airport Name Group  Claim Value  Close Value  Day_Range  \\\n",
       "0          Newark International Airport       350.00       350.00     -342.0   \n",
       "1          Seattle-Tacoma International       100.00        50.00     -713.0   \n",
       "2       Lambert St. Louis International       278.88       227.92     -660.0   \n",
       "3           Miami International Airport        50.00        50.00     -333.0   \n",
       "4         Orlando International Airport        84.79        84.79    -1083.0   \n",
       "...                                 ...          ...          ...        ...   \n",
       "160056      Miami International Airport      1518.02      1518.02      -10.0   \n",
       "160104    Orlando International Airport       150.00       150.00       -2.0   \n",
       "160238      Miami International Airport        75.06        75.06       -9.0   \n",
       "160616                            Other        50.00        10.00      -36.0   \n",
       "160772   Honolulu International Airport        95.00        95.00      -14.0   \n",
       "\n",
       "        Day Range  \n",
       "0          -342.0  \n",
       "1          -713.0  \n",
       "2          -660.0  \n",
       "3          -333.0  \n",
       "4         -1083.0  \n",
       "...           ...  \n",
       "160056      -10.0  \n",
       "160104       -2.0  \n",
       "160238       -9.0  \n",
       "160616      -36.0  \n",
       "160772      -14.0  \n",
       "\n",
       "[1316 rows x 14 columns]"
      ]
     },
     "execution_count": 44,
     "metadata": {},
     "output_type": "execute_result"
    }
   ],
   "source": [
    "dfb[dfb['Day Range']<0]"
   ]
  },
  {
   "cell_type": "markdown",
   "metadata": {},
   "source": [
    "ada 1300 data dengan hasil negatif yang menunjukkan bahwa tanggal laporan lebih dulu dibanding kejadian sehingga tidak masuk akal, maka akan di drop"
   ]
  },
  {
   "cell_type": "code",
   "execution_count": 45,
   "metadata": {},
   "outputs": [],
   "source": [
    "indexrange=dfb[dfb['Day Range']<0].index\n",
    "dfb.drop(indexrange , inplace=True)"
   ]
  },
  {
   "cell_type": "code",
   "execution_count": 46,
   "metadata": {},
   "outputs": [
    {
     "data": {
      "text/html": [
       "<div>\n",
       "<style scoped>\n",
       "    .dataframe tbody tr th:only-of-type {\n",
       "        vertical-align: middle;\n",
       "    }\n",
       "\n",
       "    .dataframe tbody tr th {\n",
       "        vertical-align: top;\n",
       "    }\n",
       "\n",
       "    .dataframe thead th {\n",
       "        text-align: right;\n",
       "    }\n",
       "</style>\n",
       "<table border=\"1\" class=\"dataframe\">\n",
       "  <thead>\n",
       "    <tr style=\"text-align: right;\">\n",
       "      <th></th>\n",
       "      <th>Claim Number</th>\n",
       "      <th>Airline Name</th>\n",
       "      <th>Claim Type</th>\n",
       "      <th>Claim Site</th>\n",
       "      <th>Item</th>\n",
       "      <th>Status</th>\n",
       "      <th>Date Received</th>\n",
       "      <th>Incident Date</th>\n",
       "      <th>Airport Code Group</th>\n",
       "      <th>Airport Name Group</th>\n",
       "      <th>Claim Value</th>\n",
       "      <th>Close Value</th>\n",
       "      <th>Day_Range</th>\n",
       "      <th>Day Range</th>\n",
       "    </tr>\n",
       "  </thead>\n",
       "  <tbody>\n",
       "  </tbody>\n",
       "</table>\n",
       "</div>"
      ],
      "text/plain": [
       "Empty DataFrame\n",
       "Columns: [Claim Number, Airline Name, Claim Type, Claim Site, Item, Status, Date Received, Incident Date, Airport Code Group, Airport Name Group, Claim Value, Close Value, Day_Range, Day Range]\n",
       "Index: []"
      ]
     },
     "execution_count": 46,
     "metadata": {},
     "output_type": "execute_result"
    }
   ],
   "source": [
    "# cek lagi \n",
    "dfb[dfb['Day Range']<0]"
   ]
  },
  {
   "cell_type": "markdown",
   "metadata": {},
   "source": [
    "membuat kolom month berdasarkan day range"
   ]
  },
  {
   "cell_type": "code",
   "execution_count": 47,
   "metadata": {},
   "outputs": [],
   "source": [
    "# Membuat kolom Month Grouping\n",
    "Month = []\n",
    "for i in dfb['Day Range'] :\n",
    "    if i >= 0 and i <= 30 :\n",
    "        Month.append('M 1')\n",
    "    elif i >=31  and i <= 60 :\n",
    "        Month.append ('M 2')\n",
    "    elif i >=61  and i <= 90 :\n",
    "        Month.append ('M 3')\n",
    "    elif i >=91  and i <= 120 :\n",
    "        Month.append ('M 4')\n",
    "    elif i >=121  and i <= 150 :\n",
    "        Month.append ('M 5')\n",
    "    elif i >=151  and i <= 180 :\n",
    "        Month.append ('M 6')\n",
    "    elif i >=181  and i <= 210 :\n",
    "        Month.append ('M 7')\n",
    "    elif i >=211  and i <= 240 :\n",
    "        Month.append ('M 8')\n",
    "    elif i >=241  and i <= 270 :\n",
    "        Month.append ('M 9')\n",
    "    elif i >=271  and i <= 300 :\n",
    "        Month.append ('M 10')\n",
    "    elif i >=301  and i <= 330 :\n",
    "        Month.append ('M 11')\n",
    "    elif i >=331  and i <= 360 :\n",
    "        Month.append ('M 12')\n",
    "    else:\n",
    "        Month.append ('Over 1Y')\n",
    "\n",
    "dfb['Month Range'] = Month"
   ]
  },
  {
   "cell_type": "markdown",
   "metadata": {},
   "source": [
    "# 3. Analisis"
   ]
  },
  {
   "cell_type": "code",
   "execution_count": null,
   "metadata": {},
   "outputs": [
    {
     "name": "stderr",
     "output_type": "stream",
     "text": [
      "C:\\Users\\Andri\\AppData\\Local\\Temp\\ipykernel_21396\\3252609595.py:1: DtypeWarning: Columns (0) have mixed types. Specify dtype option on import or set low_memory=False.\n",
      "  dfb=pd.read_csv('TSA Bersih (1).csv')\n"
     ]
    }
   ],
   "source": [
    "dfb=pd.read_csv('TSA bersih.csv')"
   ]
  },
  {
   "cell_type": "markdown",
   "metadata": {},
   "source": [
    "## 3.1 Pengaduan yang sering muncul"
   ]
  },
  {
   "cell_type": "code",
   "execution_count": null,
   "metadata": {},
   "outputs": [
    {
     "data": {
      "text/html": [
       "<div>\n",
       "<style scoped>\n",
       "    .dataframe tbody tr th:only-of-type {\n",
       "        vertical-align: middle;\n",
       "    }\n",
       "\n",
       "    .dataframe tbody tr th {\n",
       "        vertical-align: top;\n",
       "    }\n",
       "\n",
       "    .dataframe thead th {\n",
       "        text-align: right;\n",
       "    }\n",
       "</style>\n",
       "<table border=\"1\" class=\"dataframe\">\n",
       "  <thead>\n",
       "    <tr style=\"text-align: right;\">\n",
       "      <th></th>\n",
       "      <th>Claim Number</th>\n",
       "      <th>Airline Name</th>\n",
       "      <th>Claim Type</th>\n",
       "      <th>Claim Site</th>\n",
       "      <th>Item</th>\n",
       "      <th>Status</th>\n",
       "      <th>Date Received</th>\n",
       "      <th>Incident Date</th>\n",
       "      <th>Airport Code Group</th>\n",
       "      <th>Airport Name Group</th>\n",
       "      <th>Claim Value</th>\n",
       "      <th>Close Value</th>\n",
       "      <th>Day Range</th>\n",
       "    </tr>\n",
       "  </thead>\n",
       "  <tbody>\n",
       "    <tr>\n",
       "      <th>0</th>\n",
       "      <td>12772</td>\n",
       "      <td>SouthwestAirlines</td>\n",
       "      <td>-</td>\n",
       "      <td>Checkpoint</td>\n",
       "      <td>Clothing - Shoes; belts; accessories; etc.</td>\n",
       "      <td>Approved</td>\n",
       "      <td>6/20/2002</td>\n",
       "      <td>5/9/2002</td>\n",
       "      <td>BWI</td>\n",
       "      <td>Baltimore/Washington Intl Thurgood Marshall</td>\n",
       "      <td>75.00</td>\n",
       "      <td>75.0</td>\n",
       "      <td>42</td>\n",
       "    </tr>\n",
       "    <tr>\n",
       "      <th>1</th>\n",
       "      <td>2.0041E+12</td>\n",
       "      <td>-</td>\n",
       "      <td>Passenger Property Loss</td>\n",
       "      <td>Checkpoint</td>\n",
       "      <td>Jewelry - Fine</td>\n",
       "      <td>Denied</td>\n",
       "      <td>6/25/2002</td>\n",
       "      <td>5/4/2002</td>\n",
       "      <td>ATL</td>\n",
       "      <td>Hartsfield-Jackson Atlanta International Airport</td>\n",
       "      <td>4457.29</td>\n",
       "      <td>0.0</td>\n",
       "      <td>52</td>\n",
       "    </tr>\n",
       "    <tr>\n",
       "      <th>2</th>\n",
       "      <td>14460</td>\n",
       "      <td>AmericanAirlines</td>\n",
       "      <td>-</td>\n",
       "      <td>Checkpoint</td>\n",
       "      <td>Eyeglasses - (including contact lenses)</td>\n",
       "      <td>Approved</td>\n",
       "      <td>7/8/2002</td>\n",
       "      <td>6/12/2002</td>\n",
       "      <td>BWI</td>\n",
       "      <td>Baltimore/Washington Intl Thurgood Marshall</td>\n",
       "      <td>16.71</td>\n",
       "      <td>17.0</td>\n",
       "      <td>26</td>\n",
       "    </tr>\n",
       "    <tr>\n",
       "      <th>3</th>\n",
       "      <td>15242</td>\n",
       "      <td>AmericanAirlines</td>\n",
       "      <td>-</td>\n",
       "      <td>Other</td>\n",
       "      <td>Luggage (all types including footlockers)</td>\n",
       "      <td>Denied</td>\n",
       "      <td>7/12/2002</td>\n",
       "      <td>5/31/2002</td>\n",
       "      <td>BWI</td>\n",
       "      <td>Baltimore/Washington Intl Thurgood Marshall</td>\n",
       "      <td>200.00</td>\n",
       "      <td>0.0</td>\n",
       "      <td>42</td>\n",
       "    </tr>\n",
       "    <tr>\n",
       "      <th>4</th>\n",
       "      <td>15324</td>\n",
       "      <td>-</td>\n",
       "      <td>-</td>\n",
       "      <td>Other</td>\n",
       "      <td>Luggage (all types including footlockers)</td>\n",
       "      <td>Denied</td>\n",
       "      <td>7/12/2002</td>\n",
       "      <td>6/12/2002</td>\n",
       "      <td>BWI</td>\n",
       "      <td>Baltimore/Washington Intl Thurgood Marshall</td>\n",
       "      <td>50.00</td>\n",
       "      <td>0.0</td>\n",
       "      <td>30</td>\n",
       "    </tr>\n",
       "  </tbody>\n",
       "</table>\n",
       "</div>"
      ],
      "text/plain": [
       "  Claim Number       Airline Name               Claim Type  Claim Site  \\\n",
       "0        12772  SouthwestAirlines                        -  Checkpoint   \n",
       "1   2.0041E+12                  -  Passenger Property Loss  Checkpoint   \n",
       "2        14460   AmericanAirlines                        -  Checkpoint   \n",
       "3        15242   AmericanAirlines                        -       Other   \n",
       "4        15324                  -                        -       Other   \n",
       "\n",
       "                                         Item    Status Date Received  \\\n",
       "0  Clothing - Shoes; belts; accessories; etc.  Approved     6/20/2002   \n",
       "1                              Jewelry - Fine    Denied     6/25/2002   \n",
       "2     Eyeglasses - (including contact lenses)  Approved      7/8/2002   \n",
       "3   Luggage (all types including footlockers)    Denied     7/12/2002   \n",
       "4   Luggage (all types including footlockers)    Denied     7/12/2002   \n",
       "\n",
       "  Incident Date Airport Code Group  \\\n",
       "0      5/9/2002                BWI   \n",
       "1      5/4/2002                ATL   \n",
       "2     6/12/2002                BWI   \n",
       "3     5/31/2002                BWI   \n",
       "4     6/12/2002                BWI   \n",
       "\n",
       "                                 Airport Name Group  Claim Value  Close Value  \\\n",
       "0       Baltimore/Washington Intl Thurgood Marshall        75.00         75.0   \n",
       "1  Hartsfield-Jackson Atlanta International Airport      4457.29          0.0   \n",
       "2       Baltimore/Washington Intl Thurgood Marshall        16.71         17.0   \n",
       "3       Baltimore/Washington Intl Thurgood Marshall       200.00          0.0   \n",
       "4       Baltimore/Washington Intl Thurgood Marshall        50.00          0.0   \n",
       "\n",
       "   Day Range  \n",
       "0         42  \n",
       "1         52  \n",
       "2         26  \n",
       "3         42  \n",
       "4         30  "
      ]
     },
     "execution_count": 47,
     "metadata": {},
     "output_type": "execute_result"
    }
   ],
   "source": [
    "dfb.head()"
   ]
  },
  {
   "cell_type": "markdown",
   "metadata": {},
   "source": [
    "## 3.1.1 Bandara dengan pengaduan terbanyak"
   ]
  },
  {
   "cell_type": "code",
   "execution_count": null,
   "metadata": {},
   "outputs": [
    {
     "data": {
      "text/html": [
       "<div>\n",
       "<style scoped>\n",
       "    .dataframe tbody tr th:only-of-type {\n",
       "        vertical-align: middle;\n",
       "    }\n",
       "\n",
       "    .dataframe tbody tr th {\n",
       "        vertical-align: top;\n",
       "    }\n",
       "\n",
       "    .dataframe thead th {\n",
       "        text-align: right;\n",
       "    }\n",
       "</style>\n",
       "<table border=\"1\" class=\"dataframe\">\n",
       "  <thead>\n",
       "    <tr style=\"text-align: right;\">\n",
       "      <th></th>\n",
       "      <th>Airport Name Group</th>\n",
       "      <th>count</th>\n",
       "    </tr>\n",
       "  </thead>\n",
       "  <tbody>\n",
       "    <tr>\n",
       "      <th>69</th>\n",
       "      <td>Other</td>\n",
       "      <td>10279</td>\n",
       "    </tr>\n",
       "    <tr>\n",
       "      <th>50</th>\n",
       "      <td>Los Angeles International Airport</td>\n",
       "      <td>7040</td>\n",
       "    </tr>\n",
       "    <tr>\n",
       "      <th>40</th>\n",
       "      <td>John F. Kennedy International</td>\n",
       "      <td>5696</td>\n",
       "    </tr>\n",
       "    <tr>\n",
       "      <th>16</th>\n",
       "      <td>Chicago O'Hare International Airport</td>\n",
       "      <td>5211</td>\n",
       "    </tr>\n",
       "    <tr>\n",
       "      <th>63</th>\n",
       "      <td>Newark International Airport</td>\n",
       "      <td>5162</td>\n",
       "    </tr>\n",
       "    <tr>\n",
       "      <th>57</th>\n",
       "      <td>Miami International Airport</td>\n",
       "      <td>4398</td>\n",
       "    </tr>\n",
       "    <tr>\n",
       "      <th>67</th>\n",
       "      <td>Orlando International Airport</td>\n",
       "      <td>4371</td>\n",
       "    </tr>\n",
       "    <tr>\n",
       "      <th>90</th>\n",
       "      <td>Seattle-Tacoma International</td>\n",
       "      <td>4092</td>\n",
       "    </tr>\n",
       "    <tr>\n",
       "      <th>34</th>\n",
       "      <td>Hartsfield-Jackson Atlanta International Airport</td>\n",
       "      <td>3919</td>\n",
       "    </tr>\n",
       "    <tr>\n",
       "      <th>74</th>\n",
       "      <td>Phoenix Sky Harbor International</td>\n",
       "      <td>3718</td>\n",
       "    </tr>\n",
       "  </tbody>\n",
       "</table>\n",
       "</div>"
      ],
      "text/plain": [
       "                                  Airport Name Group  count\n",
       "69                                             Other  10279\n",
       "50                 Los Angeles International Airport   7040\n",
       "40                     John F. Kennedy International   5696\n",
       "16              Chicago O'Hare International Airport   5211\n",
       "63                      Newark International Airport   5162\n",
       "57                       Miami International Airport   4398\n",
       "67                     Orlando International Airport   4371\n",
       "90                      Seattle-Tacoma International   4092\n",
       "34  Hartsfield-Jackson Atlanta International Airport   3919\n",
       "74                  Phoenix Sky Harbor International   3718"
      ]
     },
     "execution_count": 48,
     "metadata": {},
     "output_type": "execute_result"
    }
   ],
   "source": [
    "# menampilkan 10 bandara yang paling banyak mendapatkan pengaduan\n",
    "dfb_airport = dfb.groupby('Airport Name Group', as_index=False)['Airport Name Group'].value_counts()\n",
    "dfb_airport = dfb_airport.sort_values(by='count', ascending=False)\n",
    "dfb_airport.head(10)"
   ]
  },
  {
   "cell_type": "code",
   "execution_count": null,
   "metadata": {},
   "outputs": [
    {
     "data": {
      "image/png": "[encoded data removed]",
      "text/plain": [
       "<Figure size 640x480 with 1 Axes>"
      ]
     },
     "metadata": {},
     "output_type": "display_data"
    }
   ],
   "source": [
    "# plotting\n",
    "snis.barplot(data=dfb_airport.head(10), x='count', y='Airport Name Group')\n",
    "mpl.show()"
   ]
  },
  {
   "cell_type": "markdown",
   "metadata": {},
   "source": [
    "Pengaduan terjadi paling banyak selain others terletak pada pada Los Angeles International airport, dari data diatas dapat dikaitkan dengan data eksternal bahwa data yang memiliki pengaduan terbanyak merupakan bandara tersibuk di US. Sedangkan Other merupakan gabungan dari banyak bandara\n",
    "\n",
    "sc: https://en.wikipedia.org/wiki/List_of_the_busiest_airports_in_the_United_States"
   ]
  },
  {
   "cell_type": "markdown",
   "metadata": {},
   "source": [
    "### 3.1.2 Cek tipe pengaduan"
   ]
  },
  {
   "cell_type": "code",
   "execution_count": null,
   "metadata": {},
   "outputs": [],
   "source": [
    "# membuat dataframeberdasarkan pengaduan\n",
    "dfb_klaim=dfb.groupby('Claim Type')[['Claim Number']].count().sort_values(by=['Claim Number'],ascending=False)"
   ]
  },
  {
   "cell_type": "code",
   "execution_count": null,
   "metadata": {},
   "outputs": [],
   "source": [
    "dfb_klaim.reset_index(inplace=True)"
   ]
  },
  {
   "cell_type": "code",
   "execution_count": null,
   "metadata": {},
   "outputs": [
    {
     "data": {
      "image/png": "[encoded data removed]",
      "text/plain": [
       "<Figure size 2000x1000 with 1 Axes>"
      ]
     },
     "metadata": {},
     "output_type": "display_data"
    }
   ],
   "source": [
    "# plotting berdasarkan tipe aduan\n",
    "mpl.figure(figsize=(20,10))\n",
    "snis.barplot(data=dfb_klaim,x='Claim Type',y='Claim Number',palette='Set2')\n",
    "mpl.xlabel('Tipe Aduan')\n",
    "mpl.ylabel('Banyak Aduan')\n",
    "mpl.show()"
   ]
  },
  {
   "cell_type": "markdown",
   "metadata": {},
   "source": [
    "Kehilangan dan kerusakan merupakan tipe pengaduan paling sering, hal ini disebabkan karena salah satu tugas harian TSA adalah melakukan pencarian dan pemeriksaan barang yang dibawa oleh penumpang\n",
    "\n",
    "sc: https://jobs.tsa.gov/transport-security-officer#:~:text=Apply%20Now-,Job%20Description,or%20impacts%20our%20transportation%20systems."
   ]
  },
  {
   "cell_type": "markdown",
   "metadata": {},
   "source": [
    "### 3.1.3 Lokasi Pengaduan"
   ]
  },
  {
   "cell_type": "code",
   "execution_count": null,
   "metadata": {},
   "outputs": [
    {
     "data": {
      "text/html": [
       "<div>\n",
       "<style scoped>\n",
       "    .dataframe tbody tr th:only-of-type {\n",
       "        vertical-align: middle;\n",
       "    }\n",
       "\n",
       "    .dataframe tbody tr th {\n",
       "        vertical-align: top;\n",
       "    }\n",
       "\n",
       "    .dataframe thead th {\n",
       "        text-align: right;\n",
       "    }\n",
       "</style>\n",
       "<table border=\"1\" class=\"dataframe\">\n",
       "  <thead>\n",
       "    <tr style=\"text-align: right;\">\n",
       "      <th></th>\n",
       "      <th>Claim Site</th>\n",
       "      <th>count</th>\n",
       "    </tr>\n",
       "  </thead>\n",
       "  <tbody>\n",
       "    <tr>\n",
       "      <th>2</th>\n",
       "      <td>Checked Baggage</td>\n",
       "      <td>114084</td>\n",
       "    </tr>\n",
       "    <tr>\n",
       "      <th>3</th>\n",
       "      <td>Checkpoint</td>\n",
       "      <td>28152</td>\n",
       "    </tr>\n",
       "    <tr>\n",
       "      <th>5</th>\n",
       "      <td>Other</td>\n",
       "      <td>944</td>\n",
       "    </tr>\n",
       "    <tr>\n",
       "      <th>4</th>\n",
       "      <td>Motor Vehicle</td>\n",
       "      <td>263</td>\n",
       "    </tr>\n",
       "    <tr>\n",
       "      <th>0</th>\n",
       "      <td>-</td>\n",
       "      <td>251</td>\n",
       "    </tr>\n",
       "    <tr>\n",
       "      <th>1</th>\n",
       "      <td>Bus Station</td>\n",
       "      <td>2</td>\n",
       "    </tr>\n",
       "  </tbody>\n",
       "</table>\n",
       "</div>"
      ],
      "text/plain": [
       "        Claim Site   count\n",
       "2  Checked Baggage  114084\n",
       "3       Checkpoint   28152\n",
       "5            Other     944\n",
       "4    Motor Vehicle     263\n",
       "0                -     251\n",
       "1      Bus Station       2"
      ]
     },
     "execution_count": 155,
     "metadata": {},
     "output_type": "execute_result"
    }
   ],
   "source": [
    "dfb_site = dfb.groupby('Claim Site', as_index=False)['Claim Site'].value_counts()\n",
    "dfb_site = dfb_site.sort_values(by='count', ascending=False)\n",
    "dfb_site"
   ]
  },
  {
   "cell_type": "code",
   "execution_count": null,
   "metadata": {},
   "outputs": [
    {
     "data": {
      "image/png": "[encoded data removed]",
      "text/plain": [
       "<Figure size 2000x1000 with 1 Axes>"
      ]
     },
     "metadata": {},
     "output_type": "display_data"
    }
   ],
   "source": [
    "# plotting berdasarkan lokasi\n",
    "mpl.figure(figsize=(20,10))\n",
    "snis.barplot(data=dfb_site,x='Claim Site',y='count',palette='Set2')\n",
    "mpl.xlabel('Lokasi Aduan')\n",
    "mpl.ylabel('Banyak Aduan')\n",
    "mpl.show()"
   ]
  },
  {
   "cell_type": "markdown",
   "metadata": {},
   "source": [
    "Pengaduan paling banyak dilaporkann di checked baggage, checked baggage adalah lokasi dimana penumpang melakukan check in penerbangan dan menyerahkan isi bagasi, dari diatas kita dapat berasumsi masakapai ikut bertanggung jawab atas aduan.\n",
    "\n",
    "sc:https://www.flypgs.com/en/travel-glossary/checked-baggage"
   ]
  },
  {
   "cell_type": "code",
   "execution_count": null,
   "metadata": {},
   "outputs": [
    {
     "data": {
      "text/plain": [
       "array(['-', 'Passenger Property Loss', 'Personal Injury',\n",
       "       'Property Damage', 'Motor Vehicle', 'Passenger Theft',\n",
       "       'Employee Loss (MPCECA)', 'Bus Terminal', 'Complaint'],\n",
       "      dtype=object)"
      ]
     },
     "execution_count": 159,
     "metadata": {},
     "output_type": "execute_result"
    }
   ],
   "source": [
    "dfb['Claim Type'].unique()"
   ]
  },
  {
   "cell_type": "code",
   "execution_count": null,
   "metadata": {},
   "outputs": [],
   "source": [
    "aduan=['Passenger Property Loss','Property Damage']\n",
    "aduan_filter=dfb[dfb['Claim Type'].isin(aduan)]"
   ]
  },
  {
   "cell_type": "code",
   "execution_count": null,
   "metadata": {},
   "outputs": [
    {
     "data": {
      "text/html": [
       "<div>\n",
       "<style scoped>\n",
       "    .dataframe tbody tr th:only-of-type {\n",
       "        vertical-align: middle;\n",
       "    }\n",
       "\n",
       "    .dataframe tbody tr th {\n",
       "        vertical-align: top;\n",
       "    }\n",
       "\n",
       "    .dataframe thead th {\n",
       "        text-align: right;\n",
       "    }\n",
       "</style>\n",
       "<table border=\"1\" class=\"dataframe\">\n",
       "  <thead>\n",
       "    <tr style=\"text-align: right;\">\n",
       "      <th></th>\n",
       "      <th>Claim Number</th>\n",
       "      <th>Airline Name</th>\n",
       "      <th>Claim Type</th>\n",
       "      <th>Claim Site</th>\n",
       "      <th>Item</th>\n",
       "      <th>Status</th>\n",
       "      <th>Date Received</th>\n",
       "      <th>Incident Date</th>\n",
       "      <th>Airport Code Group</th>\n",
       "      <th>Airport Name Group</th>\n",
       "      <th>Claim Value</th>\n",
       "      <th>Close Value</th>\n",
       "      <th>Day Range</th>\n",
       "    </tr>\n",
       "  </thead>\n",
       "  <tbody>\n",
       "    <tr>\n",
       "      <th>1</th>\n",
       "      <td>2.0041E+12</td>\n",
       "      <td>-</td>\n",
       "      <td>Passenger Property Loss</td>\n",
       "      <td>Checkpoint</td>\n",
       "      <td>Jewelry - Fine</td>\n",
       "      <td>Denied</td>\n",
       "      <td>6/25/2002</td>\n",
       "      <td>5/4/2002</td>\n",
       "      <td>ATL</td>\n",
       "      <td>Hartsfield-Jackson Atlanta International Airport</td>\n",
       "      <td>4457.29</td>\n",
       "      <td>0.00</td>\n",
       "      <td>52</td>\n",
       "    </tr>\n",
       "    <tr>\n",
       "      <th>6</th>\n",
       "      <td>0714534M</td>\n",
       "      <td>NorthwestAirlines</td>\n",
       "      <td>Property Damage</td>\n",
       "      <td>Other</td>\n",
       "      <td>Photographic Film</td>\n",
       "      <td>Denied</td>\n",
       "      <td>7/22/2002</td>\n",
       "      <td>3/6/2002</td>\n",
       "      <td>-</td>\n",
       "      <td>-</td>\n",
       "      <td>68.00</td>\n",
       "      <td>0.00</td>\n",
       "      <td>138</td>\n",
       "    </tr>\n",
       "    <tr>\n",
       "      <th>7</th>\n",
       "      <td>16410</td>\n",
       "      <td>DeltaAirLines</td>\n",
       "      <td>Passenger Property Loss</td>\n",
       "      <td>Checkpoint</td>\n",
       "      <td>Luggage (all types including footlockers)</td>\n",
       "      <td>Settled</td>\n",
       "      <td>7/24/2002</td>\n",
       "      <td>7/10/2002</td>\n",
       "      <td>SDF</td>\n",
       "      <td>Louisville International</td>\n",
       "      <td>600.00</td>\n",
       "      <td>337.40</td>\n",
       "      <td>14</td>\n",
       "    </tr>\n",
       "    <tr>\n",
       "      <th>9</th>\n",
       "      <td>0702564M</td>\n",
       "      <td>AmericaWest</td>\n",
       "      <td>Property Damage</td>\n",
       "      <td>Checkpoint</td>\n",
       "      <td>Eyeglasses - (including contact lenses)</td>\n",
       "      <td>Settled</td>\n",
       "      <td>8/19/2002</td>\n",
       "      <td>6/22/2002</td>\n",
       "      <td>BWI</td>\n",
       "      <td>Baltimore/Washington Intl Thurgood Marshall</td>\n",
       "      <td>354.93</td>\n",
       "      <td>301.69</td>\n",
       "      <td>58</td>\n",
       "    </tr>\n",
       "    <tr>\n",
       "      <th>10</th>\n",
       "      <td>16759</td>\n",
       "      <td>SouthwestAirlines</td>\n",
       "      <td>Passenger Property Loss</td>\n",
       "      <td>Checkpoint</td>\n",
       "      <td>Other</td>\n",
       "      <td>Approved</td>\n",
       "      <td>8/21/2002</td>\n",
       "      <td>7/12/2002</td>\n",
       "      <td>BWI</td>\n",
       "      <td>Baltimore/Washington Intl Thurgood Marshall</td>\n",
       "      <td>21.44</td>\n",
       "      <td>21.00</td>\n",
       "      <td>40</td>\n",
       "    </tr>\n",
       "    <tr>\n",
       "      <th>...</th>\n",
       "      <td>...</td>\n",
       "      <td>...</td>\n",
       "      <td>...</td>\n",
       "      <td>...</td>\n",
       "      <td>...</td>\n",
       "      <td>...</td>\n",
       "      <td>...</td>\n",
       "      <td>...</td>\n",
       "      <td>...</td>\n",
       "      <td>...</td>\n",
       "      <td>...</td>\n",
       "      <td>...</td>\n",
       "      <td>...</td>\n",
       "    </tr>\n",
       "    <tr>\n",
       "      <th>143691</th>\n",
       "      <td>2015010000000.0</td>\n",
       "      <td>SouthwestAirlines</td>\n",
       "      <td>Property Damage</td>\n",
       "      <td>Checked Baggage</td>\n",
       "      <td>Computer &amp; Accessories</td>\n",
       "      <td>Approved</td>\n",
       "      <td>12/31/2014</td>\n",
       "      <td>12/8/2014</td>\n",
       "      <td>FLL</td>\n",
       "      <td>Ft. Lauderdale-Hollywood International</td>\n",
       "      <td>800.00</td>\n",
       "      <td>800.00</td>\n",
       "      <td>23</td>\n",
       "    </tr>\n",
       "    <tr>\n",
       "      <th>143692</th>\n",
       "      <td>2015010000000.0</td>\n",
       "      <td>UAL</td>\n",
       "      <td>Property Damage</td>\n",
       "      <td>Checkpoint</td>\n",
       "      <td>Personal Accessories</td>\n",
       "      <td>Approved</td>\n",
       "      <td>12/31/2014</td>\n",
       "      <td>12/14/2014</td>\n",
       "      <td>SEA</td>\n",
       "      <td>Seattle-Tacoma International</td>\n",
       "      <td>50.00</td>\n",
       "      <td>50.00</td>\n",
       "      <td>17</td>\n",
       "    </tr>\n",
       "    <tr>\n",
       "      <th>143693</th>\n",
       "      <td>2014120000000.0</td>\n",
       "      <td>UAL</td>\n",
       "      <td>Property Damage</td>\n",
       "      <td>Checked Baggage</td>\n",
       "      <td>-</td>\n",
       "      <td>Approved</td>\n",
       "      <td>12/31/2014</td>\n",
       "      <td>12/26/2014</td>\n",
       "      <td>CLT</td>\n",
       "      <td>Charlotte/Douglas International Airport</td>\n",
       "      <td>24.95</td>\n",
       "      <td>24.95</td>\n",
       "      <td>5</td>\n",
       "    </tr>\n",
       "    <tr>\n",
       "      <th>143694</th>\n",
       "      <td>2014120000000.0</td>\n",
       "      <td>DeltaAirLines</td>\n",
       "      <td>Passenger Property Loss</td>\n",
       "      <td>Checked Baggage</td>\n",
       "      <td>Travel Accessories</td>\n",
       "      <td>Approved</td>\n",
       "      <td>12/31/2014</td>\n",
       "      <td>12/29/2014</td>\n",
       "      <td>DTW</td>\n",
       "      <td>Detroit Metropolitan Wayne County Airport</td>\n",
       "      <td>10.00</td>\n",
       "      <td>10.00</td>\n",
       "      <td>2</td>\n",
       "    </tr>\n",
       "    <tr>\n",
       "      <th>143695</th>\n",
       "      <td>2014120000000.0</td>\n",
       "      <td>AmericanAirlines</td>\n",
       "      <td>Passenger Property Loss</td>\n",
       "      <td>Checked Baggage</td>\n",
       "      <td>-</td>\n",
       "      <td>Approved</td>\n",
       "      <td>12/31/2014</td>\n",
       "      <td>12/27/2014</td>\n",
       "      <td>LAS</td>\n",
       "      <td>McCarran International</td>\n",
       "      <td>150.00</td>\n",
       "      <td>150.00</td>\n",
       "      <td>4</td>\n",
       "    </tr>\n",
       "  </tbody>\n",
       "</table>\n",
       "<p>136738 rows × 13 columns</p>\n",
       "</div>"
      ],
      "text/plain": [
       "           Claim Number       Airline Name               Claim Type  \\\n",
       "1            2.0041E+12                  -  Passenger Property Loss   \n",
       "6              0714534M  NorthwestAirlines          Property Damage   \n",
       "7                 16410      DeltaAirLines  Passenger Property Loss   \n",
       "9              0702564M        AmericaWest          Property Damage   \n",
       "10                16759  SouthwestAirlines  Passenger Property Loss   \n",
       "...                 ...                ...                      ...   \n",
       "143691  2015010000000.0  SouthwestAirlines          Property Damage   \n",
       "143692  2015010000000.0                UAL          Property Damage   \n",
       "143693  2014120000000.0                UAL          Property Damage   \n",
       "143694  2014120000000.0      DeltaAirLines  Passenger Property Loss   \n",
       "143695  2014120000000.0   AmericanAirlines  Passenger Property Loss   \n",
       "\n",
       "             Claim Site                                       Item    Status  \\\n",
       "1            Checkpoint                             Jewelry - Fine    Denied   \n",
       "6                 Other                          Photographic Film    Denied   \n",
       "7            Checkpoint  Luggage (all types including footlockers)   Settled   \n",
       "9            Checkpoint    Eyeglasses - (including contact lenses)   Settled   \n",
       "10           Checkpoint                                      Other  Approved   \n",
       "...                 ...                                        ...       ...   \n",
       "143691  Checked Baggage                     Computer & Accessories  Approved   \n",
       "143692       Checkpoint                       Personal Accessories  Approved   \n",
       "143693  Checked Baggage                                          -  Approved   \n",
       "143694  Checked Baggage                         Travel Accessories  Approved   \n",
       "143695  Checked Baggage                                          -  Approved   \n",
       "\n",
       "       Date Received Incident Date Airport Code Group  \\\n",
       "1          6/25/2002      5/4/2002                ATL   \n",
       "6          7/22/2002      3/6/2002                  -   \n",
       "7          7/24/2002     7/10/2002                SDF   \n",
       "9          8/19/2002     6/22/2002                BWI   \n",
       "10         8/21/2002     7/12/2002                BWI   \n",
       "...              ...           ...                ...   \n",
       "143691    12/31/2014     12/8/2014                FLL   \n",
       "143692    12/31/2014    12/14/2014                SEA   \n",
       "143693    12/31/2014    12/26/2014                CLT   \n",
       "143694    12/31/2014    12/29/2014                DTW   \n",
       "143695    12/31/2014    12/27/2014                LAS   \n",
       "\n",
       "                                      Airport Name Group  Claim Value  \\\n",
       "1       Hartsfield-Jackson Atlanta International Airport      4457.29   \n",
       "6                                                      -        68.00   \n",
       "7                               Louisville International       600.00   \n",
       "9            Baltimore/Washington Intl Thurgood Marshall       354.93   \n",
       "10           Baltimore/Washington Intl Thurgood Marshall        21.44   \n",
       "...                                                  ...          ...   \n",
       "143691            Ft. Lauderdale-Hollywood International       800.00   \n",
       "143692                      Seattle-Tacoma International        50.00   \n",
       "143693           Charlotte/Douglas International Airport        24.95   \n",
       "143694         Detroit Metropolitan Wayne County Airport        10.00   \n",
       "143695                            McCarran International       150.00   \n",
       "\n",
       "        Close Value  Day Range  \n",
       "1              0.00         52  \n",
       "6              0.00        138  \n",
       "7            337.40         14  \n",
       "9            301.69         58  \n",
       "10            21.00         40  \n",
       "...             ...        ...  \n",
       "143691       800.00         23  \n",
       "143692        50.00         17  \n",
       "143693        24.95          5  \n",
       "143694        10.00          2  \n",
       "143695       150.00          4  \n",
       "\n",
       "[136738 rows x 13 columns]"
      ]
     },
     "execution_count": 4,
     "metadata": {},
     "output_type": "execute_result"
    }
   ],
   "source": [
    "# Menampilkan data yang memiliki aduan property loss dan property damage\n",
    "aduan_filter"
   ]
  },
  {
   "cell_type": "code",
   "execution_count": null,
   "metadata": {},
   "outputs": [],
   "source": [
    "SitexType=pd.crosstab(index=aduan_filter['Claim Site'],columns=aduan_filter['Claim Type']).sort_values(by='Passenger Property Loss',ascending=False)"
   ]
  },
  {
   "cell_type": "code",
   "execution_count": null,
   "metadata": {},
   "outputs": [
    {
     "data": {
      "image/png": "[encoded data removed]",
      "text/plain": [
       "<Figure size 640x480 with 1 Axes>"
      ]
     },
     "metadata": {},
     "output_type": "display_data"
    },
    {
     "data": {
      "text/plain": [
       "<Figure size 2000x1000 with 0 Axes>"
      ]
     },
     "metadata": {},
     "output_type": "display_data"
    }
   ],
   "source": [
    "# menampilkan plot\n",
    "SitexType.plot(kind='bar',\n",
    "      stacked=True)\n",
    "mpl.xticks(rotation=45)\n",
    "mpl.yscale('log')\n",
    "mpl.figure(figsize=(20,10))\n",
    "\n",
    "mpl.show()"
   ]
  },
  {
   "cell_type": "markdown",
   "metadata": {},
   "source": [
    "Pengaduan paling sering terjadi pada sesi checked baggage dan jenis laporan adalah kehilangan barang. karena paling banyak di checked baggage, maka dapat diasumsikan bahwa maskapai bertanggung jawab sebagian atas masalah, karena pada sesi checked baggage penumpang menyerahkan barang yang akan diangkut kedalam bagasi."
   ]
  },
  {
   "cell_type": "markdown",
   "metadata": {},
   "source": [
    "### 3.1.4 Maskapai yang paling banyak menerima pengaduan"
   ]
  },
  {
   "cell_type": "code",
   "execution_count": null,
   "metadata": {},
   "outputs": [
    {
     "data": {
      "text/html": [
       "<div>\n",
       "<style scoped>\n",
       "    .dataframe tbody tr th:only-of-type {\n",
       "        vertical-align: middle;\n",
       "    }\n",
       "\n",
       "    .dataframe tbody tr th {\n",
       "        vertical-align: top;\n",
       "    }\n",
       "\n",
       "    .dataframe thead th {\n",
       "        text-align: right;\n",
       "    }\n",
       "</style>\n",
       "<table border=\"1\" class=\"dataframe\">\n",
       "  <thead>\n",
       "    <tr style=\"text-align: right;\">\n",
       "      <th></th>\n",
       "      <th>Claim Number</th>\n",
       "      <th>Airline Name</th>\n",
       "      <th>Claim Type</th>\n",
       "      <th>Claim Site</th>\n",
       "      <th>Item</th>\n",
       "      <th>Status</th>\n",
       "      <th>Date Received</th>\n",
       "      <th>Incident Date</th>\n",
       "      <th>Airport Code Group</th>\n",
       "      <th>Airport Name Group</th>\n",
       "      <th>Claim Value</th>\n",
       "      <th>Close Value</th>\n",
       "      <th>Day Range</th>\n",
       "    </tr>\n",
       "  </thead>\n",
       "  <tbody>\n",
       "    <tr>\n",
       "      <th>0</th>\n",
       "      <td>12772</td>\n",
       "      <td>SouthwestAirlines</td>\n",
       "      <td>-</td>\n",
       "      <td>Checkpoint</td>\n",
       "      <td>Clothing - Shoes; belts; accessories; etc.</td>\n",
       "      <td>Approved</td>\n",
       "      <td>6/20/2002</td>\n",
       "      <td>5/9/2002</td>\n",
       "      <td>BWI</td>\n",
       "      <td>Baltimore/Washington Intl Thurgood Marshall</td>\n",
       "      <td>75.00</td>\n",
       "      <td>75.00</td>\n",
       "      <td>42</td>\n",
       "    </tr>\n",
       "    <tr>\n",
       "      <th>2</th>\n",
       "      <td>14460</td>\n",
       "      <td>AmericanAirlines</td>\n",
       "      <td>-</td>\n",
       "      <td>Checkpoint</td>\n",
       "      <td>Eyeglasses - (including contact lenses)</td>\n",
       "      <td>Approved</td>\n",
       "      <td>7/8/2002</td>\n",
       "      <td>6/12/2002</td>\n",
       "      <td>BWI</td>\n",
       "      <td>Baltimore/Washington Intl Thurgood Marshall</td>\n",
       "      <td>16.71</td>\n",
       "      <td>17.00</td>\n",
       "      <td>26</td>\n",
       "    </tr>\n",
       "    <tr>\n",
       "      <th>3</th>\n",
       "      <td>15242</td>\n",
       "      <td>AmericanAirlines</td>\n",
       "      <td>-</td>\n",
       "      <td>Other</td>\n",
       "      <td>Luggage (all types including footlockers)</td>\n",
       "      <td>Denied</td>\n",
       "      <td>7/12/2002</td>\n",
       "      <td>5/31/2002</td>\n",
       "      <td>BWI</td>\n",
       "      <td>Baltimore/Washington Intl Thurgood Marshall</td>\n",
       "      <td>200.00</td>\n",
       "      <td>0.00</td>\n",
       "      <td>42</td>\n",
       "    </tr>\n",
       "    <tr>\n",
       "      <th>6</th>\n",
       "      <td>0714534M</td>\n",
       "      <td>NorthwestAirlines</td>\n",
       "      <td>Property Damage</td>\n",
       "      <td>Other</td>\n",
       "      <td>Photographic Film</td>\n",
       "      <td>Denied</td>\n",
       "      <td>7/22/2002</td>\n",
       "      <td>3/6/2002</td>\n",
       "      <td>-</td>\n",
       "      <td>-</td>\n",
       "      <td>68.00</td>\n",
       "      <td>0.00</td>\n",
       "      <td>138</td>\n",
       "    </tr>\n",
       "    <tr>\n",
       "      <th>7</th>\n",
       "      <td>16410</td>\n",
       "      <td>DeltaAirLines</td>\n",
       "      <td>Passenger Property Loss</td>\n",
       "      <td>Checkpoint</td>\n",
       "      <td>Luggage (all types including footlockers)</td>\n",
       "      <td>Settled</td>\n",
       "      <td>7/24/2002</td>\n",
       "      <td>7/10/2002</td>\n",
       "      <td>SDF</td>\n",
       "      <td>Louisville International</td>\n",
       "      <td>600.00</td>\n",
       "      <td>337.40</td>\n",
       "      <td>14</td>\n",
       "    </tr>\n",
       "    <tr>\n",
       "      <th>...</th>\n",
       "      <td>...</td>\n",
       "      <td>...</td>\n",
       "      <td>...</td>\n",
       "      <td>...</td>\n",
       "      <td>...</td>\n",
       "      <td>...</td>\n",
       "      <td>...</td>\n",
       "      <td>...</td>\n",
       "      <td>...</td>\n",
       "      <td>...</td>\n",
       "      <td>...</td>\n",
       "      <td>...</td>\n",
       "      <td>...</td>\n",
       "    </tr>\n",
       "    <tr>\n",
       "      <th>143691</th>\n",
       "      <td>2015010000000.0</td>\n",
       "      <td>SouthwestAirlines</td>\n",
       "      <td>Property Damage</td>\n",
       "      <td>Checked Baggage</td>\n",
       "      <td>Computer &amp; Accessories</td>\n",
       "      <td>Approved</td>\n",
       "      <td>12/31/2014</td>\n",
       "      <td>12/8/2014</td>\n",
       "      <td>FLL</td>\n",
       "      <td>Ft. Lauderdale-Hollywood International</td>\n",
       "      <td>800.00</td>\n",
       "      <td>800.00</td>\n",
       "      <td>23</td>\n",
       "    </tr>\n",
       "    <tr>\n",
       "      <th>143692</th>\n",
       "      <td>2015010000000.0</td>\n",
       "      <td>UAL</td>\n",
       "      <td>Property Damage</td>\n",
       "      <td>Checkpoint</td>\n",
       "      <td>Personal Accessories</td>\n",
       "      <td>Approved</td>\n",
       "      <td>12/31/2014</td>\n",
       "      <td>12/14/2014</td>\n",
       "      <td>SEA</td>\n",
       "      <td>Seattle-Tacoma International</td>\n",
       "      <td>50.00</td>\n",
       "      <td>50.00</td>\n",
       "      <td>17</td>\n",
       "    </tr>\n",
       "    <tr>\n",
       "      <th>143693</th>\n",
       "      <td>2014120000000.0</td>\n",
       "      <td>UAL</td>\n",
       "      <td>Property Damage</td>\n",
       "      <td>Checked Baggage</td>\n",
       "      <td>-</td>\n",
       "      <td>Approved</td>\n",
       "      <td>12/31/2014</td>\n",
       "      <td>12/26/2014</td>\n",
       "      <td>CLT</td>\n",
       "      <td>Charlotte/Douglas International Airport</td>\n",
       "      <td>24.95</td>\n",
       "      <td>24.95</td>\n",
       "      <td>5</td>\n",
       "    </tr>\n",
       "    <tr>\n",
       "      <th>143694</th>\n",
       "      <td>2014120000000.0</td>\n",
       "      <td>DeltaAirLines</td>\n",
       "      <td>Passenger Property Loss</td>\n",
       "      <td>Checked Baggage</td>\n",
       "      <td>Travel Accessories</td>\n",
       "      <td>Approved</td>\n",
       "      <td>12/31/2014</td>\n",
       "      <td>12/29/2014</td>\n",
       "      <td>DTW</td>\n",
       "      <td>Detroit Metropolitan Wayne County Airport</td>\n",
       "      <td>10.00</td>\n",
       "      <td>10.00</td>\n",
       "      <td>2</td>\n",
       "    </tr>\n",
       "    <tr>\n",
       "      <th>143695</th>\n",
       "      <td>2014120000000.0</td>\n",
       "      <td>AmericanAirlines</td>\n",
       "      <td>Passenger Property Loss</td>\n",
       "      <td>Checked Baggage</td>\n",
       "      <td>-</td>\n",
       "      <td>Approved</td>\n",
       "      <td>12/31/2014</td>\n",
       "      <td>12/27/2014</td>\n",
       "      <td>LAS</td>\n",
       "      <td>McCarran International</td>\n",
       "      <td>150.00</td>\n",
       "      <td>150.00</td>\n",
       "      <td>4</td>\n",
       "    </tr>\n",
       "  </tbody>\n",
       "</table>\n",
       "<p>115331 rows × 13 columns</p>\n",
       "</div>"
      ],
      "text/plain": [
       "           Claim Number       Airline Name               Claim Type  \\\n",
       "0                 12772  SouthwestAirlines                        -   \n",
       "2                 14460   AmericanAirlines                        -   \n",
       "3                 15242   AmericanAirlines                        -   \n",
       "6              0714534M  NorthwestAirlines          Property Damage   \n",
       "7                 16410      DeltaAirLines  Passenger Property Loss   \n",
       "...                 ...                ...                      ...   \n",
       "143691  2015010000000.0  SouthwestAirlines          Property Damage   \n",
       "143692  2015010000000.0                UAL          Property Damage   \n",
       "143693  2014120000000.0                UAL          Property Damage   \n",
       "143694  2014120000000.0      DeltaAirLines  Passenger Property Loss   \n",
       "143695  2014120000000.0   AmericanAirlines  Passenger Property Loss   \n",
       "\n",
       "             Claim Site                                        Item    Status  \\\n",
       "0            Checkpoint  Clothing - Shoes; belts; accessories; etc.  Approved   \n",
       "2            Checkpoint     Eyeglasses - (including contact lenses)  Approved   \n",
       "3                 Other   Luggage (all types including footlockers)    Denied   \n",
       "6                 Other                           Photographic Film    Denied   \n",
       "7            Checkpoint   Luggage (all types including footlockers)   Settled   \n",
       "...                 ...                                         ...       ...   \n",
       "143691  Checked Baggage                      Computer & Accessories  Approved   \n",
       "143692       Checkpoint                        Personal Accessories  Approved   \n",
       "143693  Checked Baggage                                           -  Approved   \n",
       "143694  Checked Baggage                          Travel Accessories  Approved   \n",
       "143695  Checked Baggage                                           -  Approved   \n",
       "\n",
       "       Date Received Incident Date Airport Code Group  \\\n",
       "0          6/20/2002      5/9/2002                BWI   \n",
       "2           7/8/2002     6/12/2002                BWI   \n",
       "3          7/12/2002     5/31/2002                BWI   \n",
       "6          7/22/2002      3/6/2002                  -   \n",
       "7          7/24/2002     7/10/2002                SDF   \n",
       "...              ...           ...                ...   \n",
       "143691    12/31/2014     12/8/2014                FLL   \n",
       "143692    12/31/2014    12/14/2014                SEA   \n",
       "143693    12/31/2014    12/26/2014                CLT   \n",
       "143694    12/31/2014    12/29/2014                DTW   \n",
       "143695    12/31/2014    12/27/2014                LAS   \n",
       "\n",
       "                                 Airport Name Group  Claim Value  Close Value  \\\n",
       "0       Baltimore/Washington Intl Thurgood Marshall        75.00        75.00   \n",
       "2       Baltimore/Washington Intl Thurgood Marshall        16.71        17.00   \n",
       "3       Baltimore/Washington Intl Thurgood Marshall       200.00         0.00   \n",
       "6                                                 -        68.00         0.00   \n",
       "7                          Louisville International       600.00       337.40   \n",
       "...                                             ...          ...          ...   \n",
       "143691       Ft. Lauderdale-Hollywood International       800.00       800.00   \n",
       "143692                 Seattle-Tacoma International        50.00        50.00   \n",
       "143693      Charlotte/Douglas International Airport        24.95        24.95   \n",
       "143694    Detroit Metropolitan Wayne County Airport        10.00        10.00   \n",
       "143695                       McCarran International       150.00       150.00   \n",
       "\n",
       "        Day Range  \n",
       "0              42  \n",
       "2              26  \n",
       "3              42  \n",
       "6             138  \n",
       "7              14  \n",
       "...           ...  \n",
       "143691         23  \n",
       "143692         17  \n",
       "143693          5  \n",
       "143694          2  \n",
       "143695          4  \n",
       "\n",
       "[115331 rows x 13 columns]"
      ]
     },
     "execution_count": 19,
     "metadata": {},
     "output_type": "execute_result"
    }
   ],
   "source": [
    "dfb[dfb['Airline Name']!='-']"
   ]
  },
  {
   "cell_type": "code",
   "execution_count": null,
   "metadata": {},
   "outputs": [],
   "source": [
    "maskapai=dfb[(dfb['Airline Name']!='-')&(dfb['Claim Site']=='Checkpoint')]"
   ]
  },
  {
   "cell_type": "code",
   "execution_count": null,
   "metadata": {},
   "outputs": [
    {
     "data": {
      "text/html": [
       "<div>\n",
       "<style scoped>\n",
       "    .dataframe tbody tr th:only-of-type {\n",
       "        vertical-align: middle;\n",
       "    }\n",
       "\n",
       "    .dataframe tbody tr th {\n",
       "        vertical-align: top;\n",
       "    }\n",
       "\n",
       "    .dataframe thead th {\n",
       "        text-align: right;\n",
       "    }\n",
       "</style>\n",
       "<table border=\"1\" class=\"dataframe\">\n",
       "  <thead>\n",
       "    <tr style=\"text-align: right;\">\n",
       "      <th></th>\n",
       "      <th>Airline Name</th>\n",
       "      <th>count</th>\n",
       "    </tr>\n",
       "  </thead>\n",
       "  <tbody>\n",
       "    <tr>\n",
       "      <th>48</th>\n",
       "      <td>DeltaAirLines</td>\n",
       "      <td>2998</td>\n",
       "    </tr>\n",
       "    <tr>\n",
       "      <th>25</th>\n",
       "      <td>AmericanAirlines</td>\n",
       "      <td>2852</td>\n",
       "    </tr>\n",
       "    <tr>\n",
       "      <th>109</th>\n",
       "      <td>SouthwestAirlines</td>\n",
       "      <td>2820</td>\n",
       "    </tr>\n",
       "    <tr>\n",
       "      <th>122</th>\n",
       "      <td>UAL</td>\n",
       "      <td>1980</td>\n",
       "    </tr>\n",
       "    <tr>\n",
       "      <th>124</th>\n",
       "      <td>USAir</td>\n",
       "      <td>1715</td>\n",
       "    </tr>\n",
       "    <tr>\n",
       "      <th>...</th>\n",
       "      <td>...</td>\n",
       "      <td>...</td>\n",
       "    </tr>\n",
       "    <tr>\n",
       "      <th>73</th>\n",
       "      <td>KuwaitAirlines</td>\n",
       "      <td>1</td>\n",
       "    </tr>\n",
       "    <tr>\n",
       "      <th>16</th>\n",
       "      <td>AirPortugal</td>\n",
       "      <td>1</td>\n",
       "    </tr>\n",
       "    <tr>\n",
       "      <th>32</th>\n",
       "      <td>BahamaAirlines</td>\n",
       "      <td>1</td>\n",
       "    </tr>\n",
       "    <tr>\n",
       "      <th>112</th>\n",
       "      <td>SunWingAirlines</td>\n",
       "      <td>1</td>\n",
       "    </tr>\n",
       "    <tr>\n",
       "      <th>134</th>\n",
       "      <td>XLAirways</td>\n",
       "      <td>1</td>\n",
       "    </tr>\n",
       "  </tbody>\n",
       "</table>\n",
       "<p>135 rows × 2 columns</p>\n",
       "</div>"
      ],
      "text/plain": [
       "          Airline Name  count\n",
       "48       DeltaAirLines   2998\n",
       "25    AmericanAirlines   2852\n",
       "109  SouthwestAirlines   2820\n",
       "122                UAL   1980\n",
       "124              USAir   1715\n",
       "..                 ...    ...\n",
       "73      KuwaitAirlines      1\n",
       "16         AirPortugal      1\n",
       "32      BahamaAirlines      1\n",
       "112    SunWingAirlines      1\n",
       "134          XLAirways      1\n",
       "\n",
       "[135 rows x 2 columns]"
      ]
     },
     "execution_count": 26,
     "metadata": {},
     "output_type": "execute_result"
    }
   ],
   "source": [
    "# Melihat maskapai yang mempunyai pengaduan barang hilang pada baggage check\n",
    "maskapai2=maskapai.groupby('Airline Name', as_index=False)['Airline Name'].value_counts()\n",
    "maskapai2=maskapai2.sort_values(by='count', ascending=False)"
   ]
  },
  {
   "cell_type": "code",
   "execution_count": null,
   "metadata": {},
   "outputs": [
    {
     "data": {
      "image/png": "[encoded data removed]",
      "text/plain": [
       "<Figure size 2000x1000 with 1 Axes>"
      ]
     },
     "metadata": {},
     "output_type": "display_data"
    }
   ],
   "source": [
    "mpl.figure(figsize=(20,10))\n",
    "snis.barplot(data=maskapai2.head(10), x='count', y='Airline Name')\n",
    "mpl.title('Maskapai yang mempunyai pengaduan barang hilang pada baggage check')\n",
    "mpl.show()"
   ]
  },
  {
   "cell_type": "markdown",
   "metadata": {},
   "source": [
    "Delta air,american airline, dan southwest airline memiliki nilai pengaduan paling banyak. ini dikarenakan maskapai penerbangan tersebut merupakan salah satu maskapai terbesar di US\n",
    "sc: https://en.wikipedia.org/wiki/List_of_largest_airlines_in_North_America"
   ]
  },
  {
   "cell_type": "markdown",
   "metadata": {},
   "source": [
    "## 3.2 Faktor yang mempengaruhi keputusan TSA"
   ]
  },
  {
   "cell_type": "markdown",
   "metadata": {},
   "source": [
    "### 3.2.1 Hasil Keputusan TSA"
   ]
  },
  {
   "cell_type": "code",
   "execution_count": null,
   "metadata": {},
   "outputs": [
    {
     "data": {
      "text/html": [
       "<div>\n",
       "<style scoped>\n",
       "    .dataframe tbody tr th:only-of-type {\n",
       "        vertical-align: middle;\n",
       "    }\n",
       "\n",
       "    .dataframe tbody tr th {\n",
       "        vertical-align: top;\n",
       "    }\n",
       "\n",
       "    .dataframe thead th {\n",
       "        text-align: right;\n",
       "    }\n",
       "</style>\n",
       "<table border=\"1\" class=\"dataframe\">\n",
       "  <thead>\n",
       "    <tr style=\"text-align: right;\">\n",
       "      <th></th>\n",
       "      <th>Status</th>\n",
       "      <th>count</th>\n",
       "    </tr>\n",
       "  </thead>\n",
       "  <tbody>\n",
       "    <tr>\n",
       "      <th>1</th>\n",
       "      <td>Denied</td>\n",
       "      <td>67027</td>\n",
       "    </tr>\n",
       "    <tr>\n",
       "      <th>0</th>\n",
       "      <td>Approved</td>\n",
       "      <td>44671</td>\n",
       "    </tr>\n",
       "    <tr>\n",
       "      <th>2</th>\n",
       "      <td>Settled</td>\n",
       "      <td>31998</td>\n",
       "    </tr>\n",
       "  </tbody>\n",
       "</table>\n",
       "</div>"
      ],
      "text/plain": [
       "     Status  count\n",
       "1    Denied  67027\n",
       "0  Approved  44671\n",
       "2   Settled  31998"
      ]
     },
     "execution_count": 36,
     "metadata": {},
     "output_type": "execute_result"
    }
   ],
   "source": [
    "dfb_status = dfb.groupby('Status', as_index=False)['Status'].value_counts()\n",
    "dfb_status = dfb_status.sort_values(by='count', ascending=False)\n",
    "dfb_status"
   ]
  },
  {
   "cell_type": "code",
   "execution_count": null,
   "metadata": {},
   "outputs": [
    {
     "data": {
      "application/vnd.plotly.v1+json": {
       "config": {
        "plotlyServerURL": "https://plot.ly"
       },
       "data": [
        {
         "domain": {
          "x": [
           0,
           1
          ],
          "y": [
           0,
           1
          ]
         },
         "hovertemplate": "Status=%{label}<br>count=%{value}<extra></extra>",
         "labels": [
          "Denied",
          "Approved",
          "Settled"
         ],
         "legendgroup": "",
         "name": "",
         "showlegend": true,
         "type": "pie",
         "values": [
          67027,
          44671,
          31998
         ]
        }
       ],
       "layout": {
        "legend": {
         "tracegroupgap": 0
        },
        "template": {
         "data": {
          "bar": [
           {
            "error_x": {
             "color": "#2a3f5f"
            },
            "error_y": {
             "color": "#2a3f5f"
            },
            "marker": {
             "line": {
              "color": "#E5ECF6",
              "width": 0.5
             }
            },
            "type": "bar"
           }
          ],
          "barpolar": [
           {
            "marker": {
             "line": {
              "color": "#E5ECF6",
              "width": 0.5
             }
            },
            "type": "barpolar"
           }
          ],
          "carpet": [
           {
            "aaxis": {
             "endlinecolor": "#2a3f5f",
             "gridcolor": "white",
             "linecolor": "white",
             "minorgridcolor": "white",
             "startlinecolor": "#2a3f5f"
            },
            "baxis": {
             "endlinecolor": "#2a3f5f",
             "gridcolor": "white",
             "linecolor": "white",
             "minorgridcolor": "white",
             "startlinecolor": "#2a3f5f"
            },
            "type": "carpet"
           }
          ],
          "choropleth": [
           {
            "colorbar": {
             "outlinewidth": 0,
             "ticks": ""
            },
            "type": "choropleth"
           }
          ],
          "contour": [
           {
            "colorbar": {
             "outlinewidth": 0,
             "ticks": ""
            },
            "colorscale": [
             [
              0,
              "#0d0887"
             ],
             [
              0.1111111111111111,
              "#46039f"
             ],
             [
              0.2222222222222222,
              "#7201a8"
             ],
             [
              0.3333333333333333,
              "#9c179e"
             ],
             [
              0.4444444444444444,
              "#bd3786"
             ],
             [
              0.5555555555555556,
              "#d8576b"
             ],
             [
              0.6666666666666666,
              "#ed7953"
             ],
             [
              0.7777777777777778,
              "#fb9f3a"
             ],
             [
              0.8888888888888888,
              "#fdca26"
             ],
             [
              1,
              "#f0f921"
             ]
            ],
            "type": "contour"
           }
          ],
          "contourcarpet": [
           {
            "colorbar": {
             "outlinewidth": 0,
             "ticks": ""
            },
            "type": "contourcarpet"
           }
          ],
          "heatmap": [
           {
            "colorbar": {
             "outlinewidth": 0,
             "ticks": ""
            },
            "colorscale": [
             [
              0,
              "#0d0887"
             ],
             [
              0.1111111111111111,
              "#46039f"
             ],
             [
              0.2222222222222222,
              "#7201a8"
             ],
             [
              0.3333333333333333,
              "#9c179e"
             ],
             [
              0.4444444444444444,
              "#bd3786"
             ],
             [
              0.5555555555555556,
              "#d8576b"
             ],
             [
              0.6666666666666666,
              "#ed7953"
             ],
             [
              0.7777777777777778,
              "#fb9f3a"
             ],
             [
              0.8888888888888888,
              "#fdca26"
             ],
             [
              1,
              "#f0f921"
             ]
            ],
            "type": "heatmap"
           }
          ],
          "heatmapgl": [
           {
            "colorbar": {
             "outlinewidth": 0,
             "ticks": ""
            },
            "colorscale": [
             [
              0,
              "#0d0887"
             ],
             [
              0.1111111111111111,
              "#46039f"
             ],
             [
              0.2222222222222222,
              "#7201a8"
             ],
             [
              0.3333333333333333,
              "#9c179e"
             ],
             [
              0.4444444444444444,
              "#bd3786"
             ],
             [
              0.5555555555555556,
              "#d8576b"
             ],
             [
              0.6666666666666666,
              "#ed7953"
             ],
             [
              0.7777777777777778,
              "#fb9f3a"
             ],
             [
              0.8888888888888888,
              "#fdca26"
             ],
             [
              1,
              "#f0f921"
             ]
            ],
            "type": "heatmapgl"
           }
          ],
          "histogram": [
           {
            "marker": {
             "colorbar": {
              "outlinewidth": 0,
              "ticks": ""
             }
            },
            "type": "histogram"
           }
          ],
          "histogram2d": [
           {
            "colorbar": {
             "outlinewidth": 0,
             "ticks": ""
            },
            "colorscale": [
             [
              0,
              "#0d0887"
             ],
             [
              0.1111111111111111,
              "#46039f"
             ],
             [
              0.2222222222222222,
              "#7201a8"
             ],
             [
              0.3333333333333333,
              "#9c179e"
             ],
             [
              0.4444444444444444,
              "#bd3786"
             ],
             [
              0.5555555555555556,
              "#d8576b"
             ],
             [
              0.6666666666666666,
              "#ed7953"
             ],
             [
              0.7777777777777778,
              "#fb9f3a"
             ],
             [
              0.8888888888888888,
              "#fdca26"
             ],
             [
              1,
              "#f0f921"
             ]
            ],
            "type": "histogram2d"
           }
          ],
          "histogram2dcontour": [
           {
            "colorbar": {
             "outlinewidth": 0,
             "ticks": ""
            },
            "colorscale": [
             [
              0,
              "#0d0887"
             ],
             [
              0.1111111111111111,
              "#46039f"
             ],
             [
              0.2222222222222222,
              "#7201a8"
             ],
             [
              0.3333333333333333,
              "#9c179e"
             ],
             [
              0.4444444444444444,
              "#bd3786"
             ],
             [
              0.5555555555555556,
              "#d8576b"
             ],
             [
              0.6666666666666666,
              "#ed7953"
             ],
             [
              0.7777777777777778,
              "#fb9f3a"
             ],
             [
              0.8888888888888888,
              "#fdca26"
             ],
             [
              1,
              "#f0f921"
             ]
            ],
            "type": "histogram2dcontour"
           }
          ],
          "mesh3d": [
           {
            "colorbar": {
             "outlinewidth": 0,
             "ticks": ""
            },
            "type": "mesh3d"
           }
          ],
          "parcoords": [
           {
            "line": {
             "colorbar": {
              "outlinewidth": 0,
              "ticks": ""
             }
            },
            "type": "parcoords"
           }
          ],
          "pie": [
           {
            "automargin": true,
            "type": "pie"
           }
          ],
          "scatter": [
           {
            "marker": {
             "colorbar": {
              "outlinewidth": 0,
              "ticks": ""
             }
            },
            "type": "scatter"
           }
          ],
          "scatter3d": [
           {
            "line": {
             "colorbar": {
              "outlinewidth": 0,
              "ticks": ""
             }
            },
            "marker": {
             "colorbar": {
              "outlinewidth": 0,
              "ticks": ""
             }
            },
            "type": "scatter3d"
           }
          ],
          "scattercarpet": [
           {
            "marker": {
             "colorbar": {
              "outlinewidth": 0,
              "ticks": ""
             }
            },
            "type": "scattercarpet"
           }
          ],
          "scattergeo": [
           {
            "marker": {
             "colorbar": {
              "outlinewidth": 0,
              "ticks": ""
             }
            },
            "type": "scattergeo"
           }
          ],
          "scattergl": [
           {
            "marker": {
             "colorbar": {
              "outlinewidth": 0,
              "ticks": ""
             }
            },
            "type": "scattergl"
           }
          ],
          "scattermapbox": [
           {
            "marker": {
             "colorbar": {
              "outlinewidth": 0,
              "ticks": ""
             }
            },
            "type": "scattermapbox"
           }
          ],
          "scatterpolar": [
           {
            "marker": {
             "colorbar": {
              "outlinewidth": 0,
              "ticks": ""
             }
            },
            "type": "scatterpolar"
           }
          ],
          "scatterpolargl": [
           {
            "marker": {
             "colorbar": {
              "outlinewidth": 0,
              "ticks": ""
             }
            },
            "type": "scatterpolargl"
           }
          ],
          "scatterternary": [
           {
            "marker": {
             "colorbar": {
              "outlinewidth": 0,
              "ticks": ""
             }
            },
            "type": "scatterternary"
           }
          ],
          "surface": [
           {
            "colorbar": {
             "outlinewidth": 0,
             "ticks": ""
            },
            "colorscale": [
             [
              0,
              "#0d0887"
             ],
             [
              0.1111111111111111,
              "#46039f"
             ],
             [
              0.2222222222222222,
              "#7201a8"
             ],
             [
              0.3333333333333333,
              "#9c179e"
             ],
             [
              0.4444444444444444,
              "#bd3786"
             ],
             [
              0.5555555555555556,
              "#d8576b"
             ],
             [
              0.6666666666666666,
              "#ed7953"
             ],
             [
              0.7777777777777778,
              "#fb9f3a"
             ],
             [
              0.8888888888888888,
              "#fdca26"
             ],
             [
              1,
              "#f0f921"
             ]
            ],
            "type": "surface"
           }
          ],
          "table": [
           {
            "cells": {
             "fill": {
              "color": "#EBF0F8"
             },
             "line": {
              "color": "white"
             }
            },
            "header": {
             "fill": {
              "color": "#C8D4E3"
             },
             "line": {
              "color": "white"
             }
            },
            "type": "table"
           }
          ]
         },
         "layout": {
          "annotationdefaults": {
           "arrowcolor": "#2a3f5f",
           "arrowhead": 0,
           "arrowwidth": 1
          },
          "autotypenumbers": "strict",
          "coloraxis": {
           "colorbar": {
            "outlinewidth": 0,
            "ticks": ""
           }
          },
          "colorscale": {
           "diverging": [
            [
             0,
             "#8e0152"
            ],
            [
             0.1,
             "#c51b7d"
            ],
            [
             0.2,
             "#de77ae"
            ],
            [
             0.3,
             "#f1b6da"
            ],
            [
             0.4,
             "#fde0ef"
            ],
            [
             0.5,
             "#f7f7f7"
            ],
            [
             0.6,
             "#e6f5d0"
            ],
            [
             0.7,
             "#b8e186"
            ],
            [
             0.8,
             "#7fbc41"
            ],
            [
             0.9,
             "#4d9221"
            ],
            [
             1,
             "#276419"
            ]
           ],
           "sequential": [
            [
             0,
             "#0d0887"
            ],
            [
             0.1111111111111111,
             "#46039f"
            ],
            [
             0.2222222222222222,
             "#7201a8"
            ],
            [
             0.3333333333333333,
             "#9c179e"
            ],
            [
             0.4444444444444444,
             "#bd3786"
            ],
            [
             0.5555555555555556,
             "#d8576b"
            ],
            [
             0.6666666666666666,
             "#ed7953"
            ],
            [
             0.7777777777777778,
             "#fb9f3a"
            ],
            [
             0.8888888888888888,
             "#fdca26"
            ],
            [
             1,
             "#f0f921"
            ]
           ],
           "sequentialminus": [
            [
             0,
             "#0d0887"
            ],
            [
             0.1111111111111111,
             "#46039f"
            ],
            [
             0.2222222222222222,
             "#7201a8"
            ],
            [
             0.3333333333333333,
             "#9c179e"
            ],
            [
             0.4444444444444444,
             "#bd3786"
            ],
            [
             0.5555555555555556,
             "#d8576b"
            ],
            [
             0.6666666666666666,
             "#ed7953"
            ],
            [
             0.7777777777777778,
             "#fb9f3a"
            ],
            [
             0.8888888888888888,
             "#fdca26"
            ],
            [
             1,
             "#f0f921"
            ]
           ]
          },
          "colorway": [
           "#636efa",
           "#EF553B",
           "#00cc96",
           "#ab63fa",
           "#FFA15A",
           "#19d3f3",
           "#FF6692",
           "#B6E880",
           "#FF97FF",
           "#FECB52"
          ],
          "font": {
           "color": "#2a3f5f"
          },
          "geo": {
           "bgcolor": "white",
           "lakecolor": "white",
           "landcolor": "#E5ECF6",
           "showlakes": true,
           "showland": true,
           "subunitcolor": "white"
          },
          "hoverlabel": {
           "align": "left"
          },
          "hovermode": "closest",
          "mapbox": {
           "style": "light"
          },
          "paper_bgcolor": "white",
          "plot_bgcolor": "#E5ECF6",
          "polar": {
           "angularaxis": {
            "gridcolor": "white",
            "linecolor": "white",
            "ticks": ""
           },
           "bgcolor": "#E5ECF6",
           "radialaxis": {
            "gridcolor": "white",
            "linecolor": "white",
            "ticks": ""
           }
          },
          "scene": {
           "xaxis": {
            "backgroundcolor": "#E5ECF6",
            "gridcolor": "white",
            "gridwidth": 2,
            "linecolor": "white",
            "showbackground": true,
            "ticks": "",
            "zerolinecolor": "white"
           },
           "yaxis": {
            "backgroundcolor": "#E5ECF6",
            "gridcolor": "white",
            "gridwidth": 2,
            "linecolor": "white",
            "showbackground": true,
            "ticks": "",
            "zerolinecolor": "white"
           },
           "zaxis": {
            "backgroundcolor": "#E5ECF6",
            "gridcolor": "white",
            "gridwidth": 2,
            "linecolor": "white",
            "showbackground": true,
            "ticks": "",
            "zerolinecolor": "white"
           }
          },
          "shapedefaults": {
           "line": {
            "color": "#2a3f5f"
           }
          },
          "ternary": {
           "aaxis": {
            "gridcolor": "white",
            "linecolor": "white",
            "ticks": ""
           },
           "baxis": {
            "gridcolor": "white",
            "linecolor": "white",
            "ticks": ""
           },
           "bgcolor": "#E5ECF6",
           "caxis": {
            "gridcolor": "white",
            "linecolor": "white",
            "ticks": ""
           }
          },
          "title": {
           "x": 0.05
          },
          "xaxis": {
           "automargin": true,
           "gridcolor": "white",
           "linecolor": "white",
           "ticks": "",
           "title": {
            "standoff": 15
           },
           "zerolinecolor": "white",
           "zerolinewidth": 2
          },
          "yaxis": {
           "automargin": true,
           "gridcolor": "white",
           "linecolor": "white",
           "ticks": "",
           "title": {
            "standoff": 15
           },
           "zerolinecolor": "white",
           "zerolinewidth": 2
          }
         }
        },
        "title": {
         "text": "Persentase Status"
        }
       }
      }
     },
     "metadata": {},
     "output_type": "display_data"
    }
   ],
   "source": [
    "fig=px.pie(dfb_status,\n",
    "           names='Status',\n",
    "           values='count',\n",
    "           title='Persentase Status')\n",
    "fig.show()"
   ]
  },
  {
   "cell_type": "markdown",
   "metadata": {},
   "source": [
    "Hasil pengaduan paling banyak adalah ditolak, ada beberapa faktor yang mempengaruhi ditolaknya laporan baik yang ada pada data ataupun tidak, selanjutnya akan menjelaskan faktor yang mempengaruhi berdasarkan dataset"
   ]
  },
  {
   "cell_type": "markdown",
   "metadata": {},
   "source": [
    "### 3.2.2 Cek berdasarkan Waktu"
   ]
  },
  {
   "cell_type": "code",
   "execution_count": null,
   "metadata": {},
   "outputs": [],
   "source": [
    "dfb_claim=dfb.sort_values(by='Day Range')"
   ]
  },
  {
   "cell_type": "code",
   "execution_count": null,
   "metadata": {},
   "outputs": [
    {
     "data": {
      "image/png": "[encoded data removed]",
      "text/plain": [
       "<Figure size 2000x1000 with 1 Axes>"
      ]
     },
     "metadata": {},
     "output_type": "display_data"
    }
   ],
   "source": [
    "# Grafik laporan berdasarkan bulan\n",
    "mpl.figure(figsize=(20,10))\n",
    "snis.countplot(data=dfb_claim,x='Month Range')\n",
    "mpl.xlabel('Jarak Bulan pengaduan')\n",
    "mpl.ylabel('Banyak Laporan')\n",
    "mpl.show()"
   ]
  },
  {
   "cell_type": "markdown",
   "metadata": {},
   "source": [
    "pengaduan paling banyak dilakukan pada bulan pertama setelah kejadian. Sedangkan semakin lama semakin sedikit yang melakukan pengaduan. karena semakin dekat rentang waktunya maka pengumpulan informasi akan lebih mudah"
   ]
  },
  {
   "cell_type": "code",
   "execution_count": null,
   "metadata": {},
   "outputs": [],
   "source": [
    "dfb_claim2=dfb_claim[dfb_claim['Month Range']=='M 1']"
   ]
  },
  {
   "cell_type": "code",
   "execution_count": null,
   "metadata": {},
   "outputs": [
    {
     "data": {
      "text/plain": [
       "Text(0, 0.5, 'Banyak Laporan')"
      ]
     },
     "execution_count": 99,
     "metadata": {},
     "output_type": "execute_result"
    },
    {
     "data": {
      "image/png": "[encoded data removed]",
      "text/plain": [
       "<Figure size 2000x1000 with 1 Axes>"
      ]
     },
     "metadata": {},
     "output_type": "display_data"
    }
   ],
   "source": [
    "# Grafik berdasarkan hari pada bulan ke 1\n",
    "mpl.figure(figsize=(20,10))\n",
    "snis.countplot(data=dfb_claim2,x='Day Range')\n",
    "mpl.xlabel('Hari Pengaduan')\n",
    "mpl.ylabel('Banyak Laporan')"
   ]
  },
  {
   "cell_type": "markdown",
   "metadata": {},
   "source": [
    "Laporan paling banyak diterima pada hari ke-11 setelah kejadian. sesuai pernyataan TSA, pengaduan dalam kurun waktu 14 dari kejadian akan langsung ditanggapi.\n",
    "sc: https://www.tsa.gov/sites/default/files/crdi-eeo-complaint-process.pdf "
   ]
  },
  {
   "cell_type": "code",
   "execution_count": null,
   "metadata": {},
   "outputs": [],
   "source": [
    "dfb_klaim3=pd.crosstab(index=dfb['Month Range'],columns=dfb['Status']).sort_index()"
   ]
  },
  {
   "cell_type": "code",
   "execution_count": null,
   "metadata": {},
   "outputs": [
    {
     "data": {
      "text/html": [
       "<div>\n",
       "<style scoped>\n",
       "    .dataframe tbody tr th:only-of-type {\n",
       "        vertical-align: middle;\n",
       "    }\n",
       "\n",
       "    .dataframe tbody tr th {\n",
       "        vertical-align: top;\n",
       "    }\n",
       "\n",
       "    .dataframe thead th {\n",
       "        text-align: right;\n",
       "    }\n",
       "</style>\n",
       "<table border=\"1\" class=\"dataframe\">\n",
       "  <thead>\n",
       "    <tr style=\"text-align: right;\">\n",
       "      <th>Status</th>\n",
       "      <th>Approved</th>\n",
       "      <th>Denied</th>\n",
       "      <th>Settled</th>\n",
       "    </tr>\n",
       "    <tr>\n",
       "      <th>Month Range</th>\n",
       "      <th></th>\n",
       "      <th></th>\n",
       "      <th></th>\n",
       "    </tr>\n",
       "  </thead>\n",
       "  <tbody>\n",
       "    <tr>\n",
       "      <th>M 1</th>\n",
       "      <td>26532</td>\n",
       "      <td>40378</td>\n",
       "      <td>18448</td>\n",
       "    </tr>\n",
       "    <tr>\n",
       "      <th>M 10</th>\n",
       "      <td>105</td>\n",
       "      <td>201</td>\n",
       "      <td>68</td>\n",
       "    </tr>\n",
       "    <tr>\n",
       "      <th>M 11</th>\n",
       "      <td>93</td>\n",
       "      <td>141</td>\n",
       "      <td>63</td>\n",
       "    </tr>\n",
       "    <tr>\n",
       "      <th>M 12</th>\n",
       "      <td>81</td>\n",
       "      <td>179</td>\n",
       "      <td>63</td>\n",
       "    </tr>\n",
       "    <tr>\n",
       "      <th>M 2</th>\n",
       "      <td>10792</td>\n",
       "      <td>14731</td>\n",
       "      <td>7843</td>\n",
       "    </tr>\n",
       "    <tr>\n",
       "      <th>M 3</th>\n",
       "      <td>3559</td>\n",
       "      <td>5137</td>\n",
       "      <td>2663</td>\n",
       "    </tr>\n",
       "    <tr>\n",
       "      <th>M 4</th>\n",
       "      <td>1422</td>\n",
       "      <td>2344</td>\n",
       "      <td>1179</td>\n",
       "    </tr>\n",
       "    <tr>\n",
       "      <th>M 5</th>\n",
       "      <td>709</td>\n",
       "      <td>1206</td>\n",
       "      <td>559</td>\n",
       "    </tr>\n",
       "    <tr>\n",
       "      <th>M 6</th>\n",
       "      <td>426</td>\n",
       "      <td>800</td>\n",
       "      <td>362</td>\n",
       "    </tr>\n",
       "    <tr>\n",
       "      <th>M 7</th>\n",
       "      <td>250</td>\n",
       "      <td>532</td>\n",
       "      <td>200</td>\n",
       "    </tr>\n",
       "    <tr>\n",
       "      <th>M 8</th>\n",
       "      <td>196</td>\n",
       "      <td>358</td>\n",
       "      <td>156</td>\n",
       "    </tr>\n",
       "    <tr>\n",
       "      <th>M 9</th>\n",
       "      <td>143</td>\n",
       "      <td>229</td>\n",
       "      <td>122</td>\n",
       "    </tr>\n",
       "    <tr>\n",
       "      <th>Over 1Y</th>\n",
       "      <td>363</td>\n",
       "      <td>791</td>\n",
       "      <td>272</td>\n",
       "    </tr>\n",
       "  </tbody>\n",
       "</table>\n",
       "</div>"
      ],
      "text/plain": [
       "Status       Approved  Denied  Settled\n",
       "Month Range                           \n",
       "M 1             26532   40378    18448\n",
       "M 10              105     201       68\n",
       "M 11               93     141       63\n",
       "M 12               81     179       63\n",
       "M 2             10792   14731     7843\n",
       "M 3              3559    5137     2663\n",
       "M 4              1422    2344     1179\n",
       "M 5               709    1206      559\n",
       "M 6               426     800      362\n",
       "M 7               250     532      200\n",
       "M 8               196     358      156\n",
       "M 9               143     229      122\n",
       "Over 1Y           363     791      272"
      ]
     },
     "execution_count": 122,
     "metadata": {},
     "output_type": "execute_result"
    }
   ],
   "source": [
    "dfb_klaim3"
   ]
  },
  {
   "cell_type": "code",
   "execution_count": null,
   "metadata": {},
   "outputs": [
    {
     "data": {
      "text/plain": [
       "<Figure size 2000x1000 with 0 Axes>"
      ]
     },
     "metadata": {},
     "output_type": "display_data"
    },
    {
     "data": {
      "image/png": "[encoded data removed]",
      "text/plain": [
       "<Figure size 640x480 with 1 Axes>"
      ]
     },
     "metadata": {},
     "output_type": "display_data"
    }
   ],
   "source": [
    "# menampilkan hasil status berdasarkan bulan\n",
    "mpl.figure(figsize=(20,10))\n",
    "dfb_klaim3.plot(kind='bar',\n",
    "      stacked=True)\n",
    "mpl.xticks(rotation=45)\n",
    "mpl.yscale('log')\n",
    "mpl.show()"
   ]
  },
  {
   "cell_type": "markdown",
   "metadata": {},
   "source": [
    "dari grafik diatas dapat disimpulkan bahwa semakin dekat jarak laporan ke kejadian, maka semakin tinggi kesempatan untuk pengaduan diterima oleh TSA"
   ]
  },
  {
   "cell_type": "markdown",
   "metadata": {},
   "source": [
    "### 3.2.3 Cek Berdasarkan Claim Value"
   ]
  },
  {
   "cell_type": "code",
   "execution_count": null,
   "metadata": {},
   "outputs": [],
   "source": [
    "# Membuat kolom price grouping\n",
    "price = []\n",
    "for i in dfb['Claim Value'] :\n",
    "    if i > 0 and i <= 50 :\n",
    "        price.append('Under 50 USD')\n",
    "    elif i >=51  and i <= 100 :\n",
    "        price.append ('Under 100 USD')\n",
    "    elif i >=101  and i <= 250 :\n",
    "        price.append ('Under 250 USD')\n",
    "    elif i >=251  and i <= 500 :\n",
    "        price.append ('Under 500 USD')\n",
    "    elif i >=501  and i <= 1000 :\n",
    "        price.append ('Under 1000 USD')\n",
    "    elif i >1000 :\n",
    "        price.append ('Over 1000 USD')\n",
    "    else:\n",
    "        price.append ('Other Ammount')\n",
    "        \n",
    "dfb['Price Range'] = price"
   ]
  },
  {
   "cell_type": "code",
   "execution_count": null,
   "metadata": {},
   "outputs": [],
   "source": [
    "dfb_price=pd.crosstab(index=dfb['Price Range'],columns=dfb['Status']).sort_values(by='Approved',ascending=False)"
   ]
  },
  {
   "cell_type": "code",
   "execution_count": null,
   "metadata": {},
   "outputs": [
    {
     "data": {
      "text/plain": [
       "<Figure size 2000x1000 with 0 Axes>"
      ]
     },
     "metadata": {},
     "output_type": "display_data"
    },
    {
     "data": {
      "image/png": "[encoded data removed]",
      "text/plain": [
       "<Figure size 640x480 with 1 Axes>"
      ]
     },
     "metadata": {},
     "output_type": "display_data"
    }
   ],
   "source": [
    "# menampilkan hasil harga\n",
    "mpl.figure(figsize=(20,10))\n",
    "dfb_price.plot(kind='bar',\n",
    "      stacked=True)\n",
    "mpl.xticks(rotation=45)\n",
    "mpl.yscale('log')\n",
    "mpl.show()"
   ]
  },
  {
   "cell_type": "markdown",
   "metadata": {},
   "source": [
    "Dari grafik diatas, nilai claim dibawah 50 USD paling memungkinkan untuk di Approved. dapat kita asumsikan bahwa nilai klaim dibawah 50 USD akan lebih mudah diganti karena perusahaan bisa saja langsung memberikan ganti tanpa harus membutuhkan sumber daya untuk melakukan investigasi lebih lanjut."
   ]
  },
  {
   "cell_type": "markdown",
   "metadata": {},
   "source": [
    "# 3. Kesimpulan dan Saran"
   ]
  },
  {
   "cell_type": "markdown",
   "metadata": {},
   "source": [
    "1. Kesimpulan\n",
    "    1. Semakin tinggi penumpang suatu bandara, maka semakin banyak juga jumlah pengaduan, begitu juga dengan maskapai penerbangan, semakin sering maskapai melakukan penerbangan, maka semakin besar juga laporan\n",
    "    1. Tipe laporan paling terjadi adalah kehilangan barang dan kerusakan barang dan berlokasi pada Checked Baggage dan checkpoint. dapat diasumsikan pada kehilangan dan kerusakan barang, maskapai juga ikut andil tanggung jawab. karena lokasi checked baggage adalah lokasi dimana penumpang melakukan check in penerbangan dan menyerahkan barang yang akan dimuat ke bagasi,Sedangkan checkpoint adalah lokasi dimana barang diperiksa atau security check.\n",
    "    1. TSA lebih banyak menolak pengaduan dibanding menerima(Approved) atau mengganti sebagian(Settled). ini disebabkan beberapa faktor seperti jarak laporan dan kejadian yang terlalu jauh atau nilai yang terlalu besar\n",
    "    1. Jarak pengaduan paling banyak dilakukan dalam bulan pertama setelah kejadian, ini menandakan bahwa penumpang segera melakukan laporan setelah insiden terjadi\n",
    "    1. Semakin rendah jarak antara laporan dan kejadian meningkatkan keputusan pengaduan diterima, karena pihak TSA dapat lebih mudan untuk melakukan investigasi dan menghemat sumber daya dan sebelum 'trail goes cold'\n",
    "    1. Nilai claim paling banyak sekitar 250 USD, tetapi yang paling banyak diterima adalah nilai dibawah 50 USD, dapat diasumsikan bahwa degan nilai yang tergolong kecil, maka keputusan akan lebih mudah dilakukan\n",
    "\n",
    "1. Saran \n",
    "    1. Pihak maskapai agar menyarankan penumpang yang akan menyerahkan barang bagasinya pada saat check in untuk diperiksa ulang atau jika perlu penumpang dianjurkan membuat list pribadi apa yang dibawa sehingga memudahkan pengecekan jika terjadi insiden\n",
    "    1. Pihak bandara agar lebih sigap jika melihat barang tanpa pemilik dan langsung melaporkan nya sesuai area pada bandara.\n",
    "        misal: jika menemukan barang di area setelah check in, maka diserahkan kepada bagian depature security check, jika di area terminal keberangkatan sebelum check in maka diserahkan ke pusat informasi terdekat\n",
    "    1. Setelah kedatangan, maskapai disarankan berkoordinasi dengan penumpang untuk pemeriksaan ulang terhadap barang bagasi yang diterima oleh penumpang\n",
    "    1. Untuk analisis lebih lanjut, karena keterbatasan waktu dan kemampuan, diharap dapat menganalisa kolom 'Item'\n"
   ]
  },
  {
   "cell_type": "markdown",
   "metadata": {},
   "source": []
  }
 ],
 "metadata": {
  "kernelspec": {
   "display_name": "Python 3.10.6 64-bit",
   "language": "python",
   "name": "python3"
  },
  "language_info": {
   "codemirror_mode": {
    "name": "ipython",
    "version": 3
   },
   "file_extension": ".py",
   "mimetype": "text/x-python",
   "name": "python",
   "nbconvert_exporter": "python",
   "pygments_lexer": "ipython3",
   "version": "3.10.6"
  },
  "orig_nbformat": 4,
  "vscode": {
   "interpreter": {
    "hash": "78f5b707d86fd9281530b9fa2dbdbe1b33232c3b651a8e052360c651d4996094"
   }
  }
 },
 "nbformat": 4,
 "nbformat_minor": 2
}
